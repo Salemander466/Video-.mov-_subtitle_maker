{
 "cells": [
  {
   "cell_type": "code",
   "execution_count": 22,
   "id": "328be7bd",
   "metadata": {},
   "outputs": [
    {
     "name": "stdout",
     "output_type": "stream",
     "text": [
      "Requirement already satisfied: youtube_dl in c:\\users\\teams\\anaconda3\\lib\\site-packages (2021.12.17)\n"
     ]
    },
    {
     "name": "stderr",
     "output_type": "stream",
     "text": [
      "DEPRECATION: pyodbc 4.0.0-unsupported has a non-standard version number. pip 23.3 will enforce this behaviour change. A possible replacement is to upgrade to a newer version of pyodbc or contact the author to suggest that they release a version with a conforming version number. Discussion can be found at https://github.com/pypa/pip/issues/12063\n"
     ]
    }
   ],
   "source": [
    "!pip install youtube_dl\n",
    "\n",
    "\n",
    "##44 solbere\n",
    "#https://www.youtube.com/@ShawnRyanShowOfficial"
   ]
  },
  {
   "cell_type": "code",
   "execution_count": 44,
   "id": "8a012c05",
   "metadata": {},
   "outputs": [],
   "source": [
    "\n"
   ]
  },
  {
   "cell_type": "code",
   "execution_count": null,
   "id": "a91f8a79",
   "metadata": {},
   "outputs": [
    {
     "name": "stdout",
     "output_type": "stream",
     "text": [
      "Enter a keyword: 38 Roger Reaves\n",
      "38\n"
     ]
    }
   ],
   "source": [
    "from pytube import YouTube, Playlist\n",
    "import re\n",
    "\n",
    "def extract_integer_or_input(input_string):\n",
    "    # Use regular expressions to find all sequences of digits within the input string\n",
    "    numbers = re.findall(r'\\d+', input_string)\n",
    "    \n",
    "    # If numbers are found, concatenate them and convert to an integer\n",
    "    if numbers:\n",
    "        integer_str = ''.join(numbers)\n",
    "        return str(integer_str)[0]\n",
    "    # If no numbers are found, return the input string as it is\n",
    "    else:\n",
    "        return input_string\n",
    "    \n",
    "    \n",
    "def find_matching_videos_in_playlist(keyword, playlist_url):\n",
    "    try:\n",
    "        playlist = Playlist(playlist_url)\n",
    "\n",
    "        matching_video_info = []\n",
    "\n",
    "        for video_url in playlist.video_urls:\n",
    "            video = YouTube(video_url)\n",
    "            if keyword in video.title.lower():\n",
    "                matching_video_info.append((video.title, video_url))\n",
    "\n",
    "        return matching_video_info\n",
    "\n",
    "    except Exception as e:\n",
    "        print(\"Error:\", e)\n",
    "        return []\n",
    "\n",
    "if __name__ == \"__main__\":\n",
    "    \n",
    "    #input the file name here: (example: 44 solbere )\n",
    "    input_keyword = input(\"Enter a keyword: \")\n",
    "    playlist_url = 'https://www.youtube.com/playlist?list=PL4pqo9Uoh0WuUKxw0BmaK1yrg9Kd7E4lk'\n",
    "    \n",
    "    input_keyword= extract_numbers_or_input(input_keyword)\n",
    "    print(input_keyword[0])\n",
    "    matching_video_info = find_matching_videos_in_playlist(str(input_keyword[0]), playlist_url)\n",
    "    #print(matching_video_info)\n",
    "    if matching_video_info:\n",
    "        print(\"Matching video titles and URLs:\")\n",
    "        for title, url in matching_video_info:\n",
    "            print(f\"Title: {title}\")\n",
    "            \n",
    "            print(f\"URL: {url}\\n\")\n",
    "            \n",
    "    else:\n",
    "        print(\"No matching videos found.\")\n",
    "        \n",
    "\n"
   ]
  },
  {
   "cell_type": "code",
   "execution_count": null,
   "id": "46e2f119",
   "metadata": {},
   "outputs": [],
   "source": []
  }
 ],
 "metadata": {
  "kernelspec": {
   "display_name": "Python 3 (ipykernel)",
   "language": "python",
   "name": "python3"
  },
  "language_info": {
   "codemirror_mode": {
    "name": "ipython",
    "version": 3
   },
   "file_extension": ".py",
   "mimetype": "text/x-python",
   "name": "python",
   "nbconvert_exporter": "python",
   "pygments_lexer": "ipython3",
   "version": "3.9.7"
  }
 },
 "nbformat": 4,
 "nbformat_minor": 5
}
