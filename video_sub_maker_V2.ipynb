{
 "cells": [
  {
   "cell_type": "code",
   "execution_count": 15,
   "id": "08020e06",
   "metadata": {},
   "outputs": [
    {
     "name": "stdout",
     "output_type": "stream",
     "text": [
      "Requirement already satisfied: moviepy in c:\\users\\teams\\anaconda3\\lib\\site-packages (1.0.3)\n",
      "Requirement already satisfied: numpy in c:\\users\\teams\\anaconda3\\lib\\site-packages (from moviepy) (1.20.3)\n",
      "Requirement already satisfied: imageio-ffmpeg>=0.2.0 in c:\\users\\teams\\anaconda3\\lib\\site-packages (from moviepy) (0.4.8)\n",
      "Requirement already satisfied: imageio<3.0,>=2.5 in c:\\users\\teams\\anaconda3\\lib\\site-packages (from moviepy) (2.9.0)\n",
      "Requirement already satisfied: requests<3.0,>=2.8.1 in c:\\users\\teams\\anaconda3\\lib\\site-packages (from moviepy) (2.26.0)\n",
      "Requirement already satisfied: tqdm<5.0,>=4.11.2 in c:\\users\\teams\\anaconda3\\lib\\site-packages (from moviepy) (4.62.3)\n",
      "Requirement already satisfied: proglog<=1.0.0 in c:\\users\\teams\\anaconda3\\lib\\site-packages (from moviepy) (0.1.10)\n",
      "Requirement already satisfied: decorator<5.0,>=4.0.2 in c:\\users\\teams\\anaconda3\\lib\\site-packages (from moviepy) (4.4.2)\n",
      "Requirement already satisfied: pillow in c:\\users\\teams\\anaconda3\\lib\\site-packages (from imageio<3.0,>=2.5->moviepy) (8.4.0)\n",
      "Requirement already satisfied: certifi>=2017.4.17 in c:\\users\\teams\\anaconda3\\lib\\site-packages (from requests<3.0,>=2.8.1->moviepy) (2021.10.8)\n",
      "Requirement already satisfied: urllib3<1.27,>=1.21.1 in c:\\users\\teams\\anaconda3\\lib\\site-packages (from requests<3.0,>=2.8.1->moviepy) (1.26.7)\n",
      "Requirement already satisfied: idna<4,>=2.5 in c:\\users\\teams\\anaconda3\\lib\\site-packages (from requests<3.0,>=2.8.1->moviepy) (3.2)\n",
      "Requirement already satisfied: charset-normalizer~=2.0.0 in c:\\users\\teams\\anaconda3\\lib\\site-packages (from requests<3.0,>=2.8.1->moviepy) (2.0.4)\n",
      "Requirement already satisfied: colorama in c:\\users\\teams\\anaconda3\\lib\\site-packages (from tqdm<5.0,>=4.11.2->moviepy) (0.4.4)\n",
      "Requirement already satisfied: nltk in c:\\users\\teams\\anaconda3\\lib\\site-packages (3.6.5)\n",
      "Requirement already satisfied: click in c:\\users\\teams\\anaconda3\\lib\\site-packages (from nltk) (8.0.3)\n",
      "Requirement already satisfied: joblib in c:\\users\\teams\\anaconda3\\lib\\site-packages (from nltk) (1.1.0)\n",
      "Requirement already satisfied: regex>=2021.8.3 in c:\\users\\teams\\anaconda3\\lib\\site-packages (from nltk) (2021.8.3)\n",
      "Requirement already satisfied: tqdm in c:\\users\\teams\\anaconda3\\lib\\site-packages (from nltk) (4.62.3)\n",
      "Requirement already satisfied: colorama in c:\\users\\teams\\anaconda3\\lib\\site-packages (from click->nltk) (0.4.4)\n",
      "Requirement already satisfied: SpeechRecognition in c:\\users\\teams\\anaconda3\\lib\\site-packages (3.10.0)\n",
      "Requirement already satisfied: requests>=2.26.0 in c:\\users\\teams\\anaconda3\\lib\\site-packages (from SpeechRecognition) (2.26.0)\n",
      "Requirement already satisfied: urllib3<1.27,>=1.21.1 in c:\\users\\teams\\anaconda3\\lib\\site-packages (from requests>=2.26.0->SpeechRecognition) (1.26.7)\n",
      "Requirement already satisfied: certifi>=2017.4.17 in c:\\users\\teams\\anaconda3\\lib\\site-packages (from requests>=2.26.0->SpeechRecognition) (2021.10.8)\n",
      "Requirement already satisfied: charset-normalizer~=2.0.0 in c:\\users\\teams\\anaconda3\\lib\\site-packages (from requests>=2.26.0->SpeechRecognition) (2.0.4)\n",
      "Requirement already satisfied: idna<4,>=2.5 in c:\\users\\teams\\anaconda3\\lib\\site-packages (from requests>=2.26.0->SpeechRecognition) (3.2)\n",
      "Requirement already satisfied: pysrt in c:\\users\\teams\\anaconda3\\lib\\site-packages (1.1.2)\n",
      "Requirement already satisfied: chardet in c:\\users\\teams\\anaconda3\\lib\\site-packages (from pysrt) (4.0.0)\n",
      "Requirement already satisfied: pydub in c:\\users\\teams\\anaconda3\\lib\\site-packages (0.25.1)\n"
     ]
    }
   ],
   "source": [
    "!pip install moviepy\n",
    "!pip install nltk\n",
    "!pip install SpeechRecognition\n",
    "!pip install pysrt\n",
    "!pip install pydub\n"
   ]
  },
  {
   "cell_type": "code",
   "execution_count": 16,
   "id": "27252f3b",
   "metadata": {},
   "outputs": [
    {
     "name": "stdout",
     "output_type": "stream",
     "text": [
      "Requirement already satisfied: ffmpeg-python in c:\\users\\teams\\anaconda3\\lib\\site-packages (0.2.0)\n",
      "Requirement already satisfied: future in c:\\users\\teams\\anaconda3\\lib\\site-packages (from ffmpeg-python) (0.18.3)\n"
     ]
    }
   ],
   "source": [
    "!pip install ffmpeg-python"
   ]
  },
  {
   "cell_type": "code",
   "execution_count": 16,
   "id": "42a1ad04",
   "metadata": {},
   "outputs": [
    {
     "name": "stdout",
     "output_type": "stream",
     "text": [
      "Collecting google-cloud-speech\n",
      "  Downloading google_cloud_speech-2.21.0-py2.py3-none-any.whl (273 kB)\n",
      "Collecting google-api-core[grpc]!=2.0.*,!=2.1.*,!=2.10.*,!=2.2.*,!=2.3.*,!=2.4.*,!=2.5.*,!=2.6.*,!=2.7.*,!=2.8.*,!=2.9.*,<3.0.0dev,>=1.34.0\n",
      "  Downloading google_api_core-2.11.1-py3-none-any.whl (120 kB)\n",
      "Collecting protobuf!=3.20.0,!=3.20.1,!=4.21.0,!=4.21.1,!=4.21.2,!=4.21.3,!=4.21.4,!=4.21.5,<5.0.0dev,>=3.19.5\n",
      "  Downloading protobuf-4.23.4-cp39-cp39-win_amd64.whl (422 kB)\n",
      "Collecting proto-plus<2.0.0dev,>=1.22.0\n",
      "  Downloading proto_plus-1.22.3-py3-none-any.whl (48 kB)\n",
      "Collecting googleapis-common-protos<2.0.dev0,>=1.56.2\n",
      "  Downloading googleapis_common_protos-1.59.1-py2.py3-none-any.whl (224 kB)\n",
      "Collecting google-auth<3.0.dev0,>=2.14.1\n",
      "  Downloading google_auth-2.22.0-py2.py3-none-any.whl (181 kB)\n",
      "Requirement already satisfied: requests<3.0.0.dev0,>=2.18.0 in c:\\users\\teams\\anaconda3\\lib\\site-packages (from google-api-core[grpc]!=2.0.*,!=2.1.*,!=2.10.*,!=2.2.*,!=2.3.*,!=2.4.*,!=2.5.*,!=2.6.*,!=2.7.*,!=2.8.*,!=2.9.*,<3.0.0dev,>=1.34.0->google-cloud-speech) (2.26.0)\n",
      "Collecting grpcio-status<2.0.dev0,>=1.33.2\n",
      "  Downloading grpcio_status-1.56.2-py3-none-any.whl (5.1 kB)\n",
      "Collecting grpcio<2.0dev,>=1.33.2\n",
      "  Downloading grpcio-1.56.2-cp39-cp39-win_amd64.whl (4.2 MB)\n",
      "Collecting rsa<5,>=3.1.4\n",
      "  Downloading rsa-4.9-py3-none-any.whl (34 kB)\n",
      "Collecting pyasn1-modules>=0.2.1\n",
      "  Downloading pyasn1_modules-0.3.0-py2.py3-none-any.whl (181 kB)\n",
      "Requirement already satisfied: urllib3<2.0 in c:\\users\\teams\\anaconda3\\lib\\site-packages (from google-auth<3.0.dev0,>=2.14.1->google-api-core[grpc]!=2.0.*,!=2.1.*,!=2.10.*,!=2.2.*,!=2.3.*,!=2.4.*,!=2.5.*,!=2.6.*,!=2.7.*,!=2.8.*,!=2.9.*,<3.0.0dev,>=1.34.0->google-cloud-speech) (1.26.7)\n",
      "Requirement already satisfied: six>=1.9.0 in c:\\users\\teams\\anaconda3\\lib\\site-packages (from google-auth<3.0.dev0,>=2.14.1->google-api-core[grpc]!=2.0.*,!=2.1.*,!=2.10.*,!=2.2.*,!=2.3.*,!=2.4.*,!=2.5.*,!=2.6.*,!=2.7.*,!=2.8.*,!=2.9.*,<3.0.0dev,>=1.34.0->google-cloud-speech) (1.16.0)\n",
      "Collecting cachetools<6.0,>=2.0.0\n",
      "  Downloading cachetools-5.3.1-py3-none-any.whl (9.3 kB)\n",
      "Collecting pyasn1<0.6.0,>=0.4.6\n",
      "  Downloading pyasn1-0.5.0-py2.py3-none-any.whl (83 kB)\n",
      "Requirement already satisfied: charset-normalizer~=2.0.0 in c:\\users\\teams\\anaconda3\\lib\\site-packages (from requests<3.0.0.dev0,>=2.18.0->google-api-core[grpc]!=2.0.*,!=2.1.*,!=2.10.*,!=2.2.*,!=2.3.*,!=2.4.*,!=2.5.*,!=2.6.*,!=2.7.*,!=2.8.*,!=2.9.*,<3.0.0dev,>=1.34.0->google-cloud-speech) (2.0.4)\n",
      "Requirement already satisfied: idna<4,>=2.5 in c:\\users\\teams\\anaconda3\\lib\\site-packages (from requests<3.0.0.dev0,>=2.18.0->google-api-core[grpc]!=2.0.*,!=2.1.*,!=2.10.*,!=2.2.*,!=2.3.*,!=2.4.*,!=2.5.*,!=2.6.*,!=2.7.*,!=2.8.*,!=2.9.*,<3.0.0dev,>=1.34.0->google-cloud-speech) (3.2)\n",
      "Requirement already satisfied: certifi>=2017.4.17 in c:\\users\\teams\\anaconda3\\lib\\site-packages (from requests<3.0.0.dev0,>=2.18.0->google-api-core[grpc]!=2.0.*,!=2.1.*,!=2.10.*,!=2.2.*,!=2.3.*,!=2.4.*,!=2.5.*,!=2.6.*,!=2.7.*,!=2.8.*,!=2.9.*,<3.0.0dev,>=1.34.0->google-cloud-speech) (2021.10.8)\n",
      "Installing collected packages: pyasn1, rsa, pyasn1-modules, protobuf, cachetools, grpcio, googleapis-common-protos, google-auth, grpcio-status, google-api-core, proto-plus, google-cloud-speech\n",
      "Successfully installed cachetools-5.3.1 google-api-core-2.11.1 google-auth-2.22.0 google-cloud-speech-2.21.0 googleapis-common-protos-1.59.1 grpcio-1.56.2 grpcio-status-1.56.2 proto-plus-1.22.3 protobuf-4.23.4 pyasn1-0.5.0 pyasn1-modules-0.3.0 rsa-4.9\n"
     ]
    }
   ],
   "source": [
    "!pip install --upgrade google-cloud-speech\n"
   ]
  },
  {
   "cell_type": "code",
   "execution_count": null,
   "id": "86ed25ab",
   "metadata": {},
   "outputs": [
    {
     "name": "stderr",
     "output_type": "stream",
     "text": [
      "[nltk_data] Downloading package punkt to\n",
      "[nltk_data]     C:\\Users\\teams\\AppData\\Roaming\\nltk_data...\n",
      "[nltk_data]   Package punkt is already up-to-date!\n"
     ]
    },
    {
     "name": "stdout",
     "output_type": "stream",
     "text": [
      "Mono audio extracted to C:\\Users\\teams\\Untitled Folder\\mono_audio.wav\n"
     ]
    },
    {
     "name": "stderr",
     "output_type": "stream",
     "text": [
      "t:  11%|█         | 195/1749 [77:48:26<01:00, 25.63it/s, now=None]"
     ]
    },
    {
     "name": "stdout",
     "output_type": "stream",
     "text": [
      "Moviepy - Building video output.mov.\n",
      "MoviePy - Writing audio in temp-audio.m4a\n"
     ]
    },
    {
     "name": "stderr",
     "output_type": "stream",
     "text": [
      "\n",
      "chunk:   0%|          | 0/1318 [00:00<?, ?it/s, now=None]\u001b[A\n",
      "chunk:   0%|          | 2/1318 [00:00<01:24, 15.63it/s, now=None]\u001b[A\n",
      "chunk:   5%|▌         | 71/1318 [00:00<00:03, 371.18it/s, now=None]\u001b[A\n",
      "chunk:  12%|█▏        | 153/1318 [00:00<00:02, 550.85it/s, now=None]\u001b[A\n",
      "chunk:  18%|█▊        | 241/1318 [00:00<00:01, 672.36it/s, now=None]\u001b[A\n",
      "chunk:  24%|██▍       | 322/1318 [00:00<00:01, 719.00it/s, now=None]\u001b[A\n",
      "chunk:  30%|███       | 398/1318 [00:00<00:01, 730.25it/s, now=None]\u001b[A\n",
      "chunk:  36%|███▌      | 473/1318 [00:00<00:01, 729.13it/s, now=None]\u001b[A\n",
      "chunk:  42%|████▏     | 553/1318 [00:00<00:01, 750.56it/s, now=None]\u001b[A\n",
      "chunk:  48%|████▊     | 629/1318 [00:00<00:00, 742.79it/s, now=None]\u001b[A\n",
      "chunk:  53%|█████▎    | 704/1318 [00:01<00:00, 740.03it/s, now=None]\u001b[A\n",
      "chunk:  59%|█████▉    | 783/1318 [00:01<00:00, 753.51it/s, now=None]\u001b[A\n",
      "chunk:  66%|██████▌   | 866/1318 [00:01<00:00, 773.66it/s, now=None]\u001b[A\n",
      "chunk:  72%|███████▏  | 944/1318 [00:01<00:00, 750.24it/s, now=None]\u001b[A\n",
      "chunk:  78%|███████▊  | 1033/1318 [00:01<00:00, 790.46it/s, now=None]\u001b[A\n",
      "chunk:  85%|████████▌ | 1122/1318 [00:01<00:00, 805.53it/s, now=None]\u001b[A\n",
      "chunk:  92%|█████████▏| 1213/1318 [00:01<00:00, 835.55it/s, now=None]\u001b[A\n",
      "chunk:  98%|█████████▊| 1297/1318 [00:01<00:00, 827.43it/s, now=None]\u001b[A\n",
      "t:  11%|█         | 195/1749 [77:48:28<01:00, 25.63it/s, now=None]   \u001b[A"
     ]
    },
    {
     "name": "stdout",
     "output_type": "stream",
     "text": [
      "MoviePy - Done.\n",
      "Moviepy - Writing video output.mov\n",
      "\n"
     ]
    },
    {
     "name": "stderr",
     "output_type": "stream",
     "text": [
      "\n",
      "t:   0%|          | 0/1793 [00:00<?, ?it/s, now=None]\u001b[A\n",
      "t:   0%|          | 2/1793 [00:00<01:39, 17.93it/s, now=None]\u001b[A\n",
      "t:   0%|          | 4/1793 [00:00<01:37, 18.40it/s, now=None]\u001b[A\n",
      "t:   0%|          | 6/1793 [00:00<01:42, 17.49it/s, now=None]\u001b[A\n",
      "t:   0%|          | 8/1793 [00:00<01:41, 17.55it/s, now=None]\u001b[A\n",
      "t:   1%|          | 10/1793 [00:00<01:40, 17.68it/s, now=None]\u001b[A\n",
      "t:   1%|          | 12/1793 [00:00<01:38, 17.99it/s, now=None]\u001b[A\n",
      "t:   1%|          | 14/1793 [00:01<03:01,  9.83it/s, now=None]\u001b[A\n",
      "t:   1%|          | 16/1793 [00:01<02:42, 10.94it/s, now=None]\u001b[A\n",
      "t:   1%|          | 18/1793 [00:01<02:26, 12.13it/s, now=None]\u001b[A\n",
      "t:   1%|          | 20/1793 [00:01<02:14, 13.18it/s, now=None]\u001b[A\n",
      "t:   1%|          | 22/1793 [00:01<02:05, 14.13it/s, now=None]\u001b[A\n",
      "t:   1%|▏         | 24/1793 [00:01<01:58, 14.92it/s, now=None]\u001b[A\n",
      "t:   1%|▏         | 26/1793 [00:02<02:48, 10.49it/s, now=None]\u001b[A\n",
      "t:   2%|▏         | 28/1793 [00:02<02:28, 11.90it/s, now=None]\u001b[A\n",
      "t:   2%|▏         | 30/1793 [00:02<02:15, 13.03it/s, now=None]\u001b[A\n",
      "t:   2%|▏         | 32/1793 [00:02<02:01, 14.45it/s, now=None]\u001b[A\n",
      "t:   2%|▏         | 34/1793 [00:02<01:52, 15.60it/s, now=None]\u001b[A\n",
      "t:   2%|▏         | 36/1793 [00:02<02:53, 10.15it/s, now=None]\u001b[A\n",
      "t:   2%|▏         | 38/1793 [00:02<02:30, 11.68it/s, now=None]\u001b[A\n",
      "t:   2%|▏         | 40/1793 [00:03<02:12, 13.24it/s, now=None]\u001b[A\n",
      "t:   2%|▏         | 42/1793 [00:03<02:02, 14.30it/s, now=None]\u001b[A\n",
      "t:   2%|▏         | 44/1793 [00:03<02:01, 14.44it/s, now=None]\u001b[A\n",
      "t:   3%|▎         | 46/1793 [00:03<01:57, 14.84it/s, now=None]\u001b[A\n",
      "t:   3%|▎         | 48/1793 [00:03<01:53, 15.37it/s, now=None]\u001b[A\n",
      "t:   3%|▎         | 50/1793 [00:03<01:50, 15.75it/s, now=None]\u001b[A\n",
      "t:   3%|▎         | 52/1793 [00:03<01:47, 16.14it/s, now=None]\u001b[A\n",
      "t:   3%|▎         | 54/1793 [00:03<01:48, 16.09it/s, now=None]\u001b[A\n",
      "t:   3%|▎         | 56/1793 [00:04<01:47, 16.10it/s, now=None]\u001b[A\n",
      "t:   3%|▎         | 58/1793 [00:04<01:45, 16.50it/s, now=None]\u001b[A\n",
      "t:   3%|▎         | 60/1793 [00:04<01:44, 16.61it/s, now=None]\u001b[A\n",
      "t:   3%|▎         | 62/1793 [00:04<01:43, 16.79it/s, now=None]\u001b[A\n",
      "t:   4%|▎         | 64/1793 [00:04<01:40, 17.15it/s, now=None]\u001b[A\n",
      "t:   4%|▎         | 66/1793 [00:04<01:41, 17.01it/s, now=None]\u001b[A\n",
      "t:   4%|▍         | 68/1793 [00:04<01:42, 16.91it/s, now=None]\u001b[A\n",
      "t:   4%|▍         | 70/1793 [00:04<01:42, 16.87it/s, now=None]\u001b[A\n",
      "t:   4%|▍         | 72/1793 [00:04<01:45, 16.39it/s, now=None]\u001b[A\n",
      "t:   4%|▍         | 74/1793 [00:05<01:44, 16.49it/s, now=None]\u001b[A\n",
      "t:   4%|▍         | 76/1793 [00:05<01:41, 16.98it/s, now=None]\u001b[A\n",
      "t:   4%|▍         | 78/1793 [00:05<01:38, 17.47it/s, now=None]\u001b[A\n",
      "t:   4%|▍         | 80/1793 [00:05<01:35, 17.90it/s, now=None]\u001b[A\n",
      "t:   5%|▍         | 82/1793 [00:05<01:35, 17.91it/s, now=None]\u001b[A\n",
      "t:   5%|▍         | 84/1793 [00:05<01:37, 17.46it/s, now=None]\u001b[A\n",
      "t:   5%|▍         | 86/1793 [00:05<01:37, 17.49it/s, now=None]\u001b[A\n",
      "t:   5%|▍         | 88/1793 [00:05<01:40, 16.94it/s, now=None]\u001b[A\n",
      "t:   5%|▌         | 90/1793 [00:05<01:42, 16.57it/s, now=None]\u001b[A\n",
      "t:   5%|▌         | 92/1793 [00:06<01:47, 15.87it/s, now=None]\u001b[A\n",
      "t:   5%|▌         | 94/1793 [00:06<01:43, 16.38it/s, now=None]\u001b[A\n",
      "t:   5%|▌         | 96/1793 [00:06<01:41, 16.76it/s, now=None]\u001b[A\n",
      "t:   5%|▌         | 98/1793 [00:06<01:40, 16.91it/s, now=None]\u001b[A\n",
      "t:   6%|▌         | 100/1793 [00:06<01:41, 16.65it/s, now=None]\u001b[A\n",
      "t:   6%|▌         | 102/1793 [00:06<01:41, 16.68it/s, now=None]\u001b[A\n",
      "t:   6%|▌         | 104/1793 [00:06<01:41, 16.65it/s, now=None]\u001b[A\n",
      "t:   6%|▌         | 106/1793 [00:06<01:42, 16.46it/s, now=None]\u001b[A\n",
      "t:   6%|▌         | 108/1793 [00:07<01:42, 16.36it/s, now=None]\u001b[A\n",
      "t:   6%|▌         | 110/1793 [00:07<01:40, 16.68it/s, now=None]\u001b[A\n",
      "t:   6%|▌         | 112/1793 [00:07<01:39, 16.96it/s, now=None]\u001b[A\n",
      "t:   6%|▋         | 114/1793 [00:07<01:39, 16.80it/s, now=None]\u001b[A\n",
      "t:   6%|▋         | 116/1793 [00:07<01:40, 16.63it/s, now=None]\u001b[A\n",
      "t:   7%|▋         | 118/1793 [00:07<01:40, 16.66it/s, now=None]\u001b[A\n",
      "t:   7%|▋         | 120/1793 [00:07<01:39, 16.85it/s, now=None]\u001b[A\n",
      "t:   7%|▋         | 122/1793 [00:07<01:44, 15.97it/s, now=None]\u001b[A\n",
      "t:   7%|▋         | 124/1793 [00:08<01:44, 15.97it/s, now=None]\u001b[A\n",
      "t:   7%|▋         | 126/1793 [00:08<01:43, 16.18it/s, now=None]\u001b[A\n",
      "t:   7%|▋         | 128/1793 [00:08<01:43, 16.16it/s, now=None]\u001b[A\n",
      "t:   7%|▋         | 130/1793 [00:08<01:42, 16.16it/s, now=None]\u001b[A\n",
      "t:   7%|▋         | 132/1793 [00:08<01:40, 16.45it/s, now=None]\u001b[A\n",
      "t:   7%|▋         | 134/1793 [00:08<01:37, 17.08it/s, now=None]\u001b[A\n",
      "t:   8%|▊         | 136/1793 [00:08<01:37, 17.02it/s, now=None]\u001b[A\n",
      "t:   8%|▊         | 138/1793 [00:08<01:38, 16.85it/s, now=None]\u001b[A\n",
      "t:   8%|▊         | 140/1793 [00:09<01:43, 16.04it/s, now=None]\u001b[A\n",
      "t:   8%|▊         | 142/1793 [00:09<01:41, 16.30it/s, now=None]\u001b[A\n",
      "t:   8%|▊         | 144/1793 [00:09<01:39, 16.57it/s, now=None]\u001b[A\n",
      "t:   8%|▊         | 146/1793 [00:09<02:36, 10.50it/s, now=None]\u001b[A\n",
      "t:   8%|▊         | 148/1793 [00:09<02:23, 11.50it/s, now=None]\u001b[A\n",
      "t:   8%|▊         | 150/1793 [00:09<02:10, 12.59it/s, now=None]\u001b[A\n",
      "t:   8%|▊         | 152/1793 [00:10<02:02, 13.42it/s, now=None]\u001b[A\n",
      "t:   9%|▊         | 154/1793 [00:10<01:53, 14.44it/s, now=None]\u001b[A\n",
      "t:   9%|▊         | 156/1793 [00:10<01:48, 15.12it/s, now=None]\u001b[A\n",
      "t:   9%|▉         | 158/1793 [00:10<01:40, 16.21it/s, now=None]\u001b[A\n",
      "t:   9%|▉         | 160/1793 [00:10<01:37, 16.76it/s, now=None]\u001b[A\n",
      "t:   9%|▉         | 162/1793 [00:10<01:35, 17.03it/s, now=None]\u001b[A\n",
      "t:   9%|▉         | 164/1793 [00:10<01:36, 16.84it/s, now=None]\u001b[A\n",
      "t:   9%|▉         | 166/1793 [00:10<01:36, 16.88it/s, now=None]\u001b[A\n",
      "t:   9%|▉         | 168/1793 [00:10<01:34, 17.18it/s, now=None]\u001b[A\n",
      "t:   9%|▉         | 170/1793 [00:11<01:32, 17.50it/s, now=None]\u001b[A\n",
      "t:  10%|▉         | 172/1793 [00:11<01:38, 16.42it/s, now=None]\u001b[A\n",
      "t:  10%|▉         | 174/1793 [00:11<01:39, 16.34it/s, now=None]\u001b[A\n",
      "t:  10%|▉         | 176/1793 [00:11<01:38, 16.48it/s, now=None]\u001b[A\n",
      "t:  10%|▉         | 178/1793 [00:11<01:37, 16.48it/s, now=None]\u001b[A\n",
      "t:  10%|█         | 180/1793 [00:11<01:35, 16.86it/s, now=None]\u001b[A\n",
      "t:  10%|█         | 182/1793 [00:11<01:37, 16.46it/s, now=None]\u001b[A\n",
      "t:  10%|█         | 184/1793 [00:11<01:37, 16.57it/s, now=None]\u001b[A\n",
      "t:  10%|█         | 186/1793 [00:12<01:37, 16.48it/s, now=None]\u001b[A\n",
      "t:  10%|█         | 188/1793 [00:12<01:37, 16.52it/s, now=None]\u001b[A\n",
      "t:  11%|█         | 190/1793 [00:12<01:38, 16.32it/s, now=None]\u001b[A\n",
      "t:  11%|█         | 192/1793 [00:12<01:33, 17.10it/s, now=None]\u001b[A\n",
      "t:  11%|█         | 194/1793 [00:12<01:35, 16.82it/s, now=None]\u001b[A\n",
      "t:  11%|█         | 196/1793 [00:12<01:32, 17.19it/s, now=None]\u001b[A\n",
      "t:  11%|█         | 198/1793 [00:12<01:33, 17.07it/s, now=None]\u001b[A\n",
      "t:  11%|█         | 200/1793 [00:12<01:32, 17.23it/s, now=None]\u001b[A\n",
      "t:  11%|█▏        | 202/1793 [00:12<01:31, 17.34it/s, now=None]\u001b[A\n",
      "t:  11%|█▏        | 204/1793 [00:13<01:33, 16.92it/s, now=None]\u001b[A\n",
      "t:  11%|█▏        | 206/1793 [00:13<01:33, 16.99it/s, now=None]\u001b[A\n",
      "t:  12%|█▏        | 208/1793 [00:13<01:32, 17.13it/s, now=None]\u001b[A\n",
      "t:  12%|█▏        | 210/1793 [00:13<01:32, 17.15it/s, now=None]\u001b[A\n",
      "t:  12%|█▏        | 212/1793 [00:13<01:33, 16.87it/s, now=None]\u001b[A\n",
      "t:  12%|█▏        | 214/1793 [00:13<01:32, 17.04it/s, now=None]\u001b[A\n",
      "t:  12%|█▏        | 216/1793 [00:13<01:36, 16.38it/s, now=None]\u001b[A\n",
      "t:  12%|█▏        | 218/1793 [00:13<01:37, 16.15it/s, now=None]\u001b[A\n",
      "t:  12%|█▏        | 220/1793 [00:14<01:36, 16.37it/s, now=None]\u001b[A\n",
      "t:  12%|█▏        | 222/1793 [00:14<01:34, 16.71it/s, now=None]\u001b[A\n",
      "t:  12%|█▏        | 224/1793 [00:14<01:31, 17.08it/s, now=None]\u001b[A\n",
      "t:  13%|█▎        | 226/1793 [00:14<01:31, 17.16it/s, now=None]\u001b[A\n",
      "t:  13%|█▎        | 228/1793 [00:14<01:29, 17.45it/s, now=None]\u001b[A\n",
      "t:  13%|█▎        | 230/1793 [00:14<01:30, 17.23it/s, now=None]\u001b[A\n",
      "t:  13%|█▎        | 232/1793 [00:14<01:27, 17.78it/s, now=None]\u001b[A\n",
      "t:  13%|█▎        | 234/1793 [00:14<01:26, 18.03it/s, now=None]\u001b[A\n",
      "t:  13%|█▎        | 237/1793 [00:14<01:19, 19.49it/s, now=None]\u001b[A\n",
      "t:  13%|█▎        | 239/1793 [00:15<01:19, 19.43it/s, now=None]\u001b[A\n",
      "t:  13%|█▎        | 241/1793 [00:15<01:19, 19.53it/s, now=None]\u001b[A\n",
      "t:  14%|█▎        | 243/1793 [00:15<01:19, 19.54it/s, now=None]\u001b[A\n",
      "t:  14%|█▎        | 246/1793 [00:15<01:15, 20.55it/s, now=None]\u001b[A\n"
     ]
    },
    {
     "name": "stderr",
     "output_type": "stream",
     "text": [
      "t:  14%|█▍        | 249/1793 [00:15<01:16, 20.24it/s, now=None]\u001b[A\n",
      "t:  14%|█▍        | 252/1793 [00:15<01:22, 18.74it/s, now=None]\u001b[A\n",
      "t:  14%|█▍        | 254/1793 [00:15<01:21, 18.96it/s, now=None]\u001b[A\n",
      "t:  14%|█▍        | 256/1793 [00:15<01:21, 18.78it/s, now=None]\u001b[A\n",
      "t:  14%|█▍        | 259/1793 [00:16<01:17, 19.83it/s, now=None]\u001b[A\n",
      "t:  15%|█▍        | 261/1793 [00:16<01:20, 18.96it/s, now=None]\u001b[A\n",
      "t:  15%|█▍        | 264/1793 [00:16<01:18, 19.57it/s, now=None]\u001b[A\n",
      "t:  15%|█▍        | 266/1793 [00:16<01:59, 12.75it/s, now=None]\u001b[A\n",
      "t:  15%|█▌        | 269/1793 [00:16<01:42, 14.90it/s, now=None]\u001b[A\n",
      "t:  15%|█▌        | 271/1793 [00:16<01:36, 15.77it/s, now=None]\u001b[A\n",
      "t:  15%|█▌        | 274/1793 [00:17<01:28, 17.22it/s, now=None]\u001b[A\n",
      "t:  15%|█▌        | 276/1793 [00:17<01:30, 16.67it/s, now=None]\u001b[A\n",
      "t:  16%|█▌        | 279/1793 [00:17<01:24, 18.01it/s, now=None]\u001b[A\n",
      "t:  16%|█▌        | 282/1793 [00:17<01:18, 19.29it/s, now=None]\u001b[A\n",
      "t:  16%|█▌        | 284/1793 [00:17<01:17, 19.43it/s, now=None]\u001b[A\n",
      "t:  16%|█▌        | 287/1793 [00:17<01:13, 20.51it/s, now=None]\u001b[A\n",
      "t:  16%|█▌        | 290/1793 [00:18<01:50, 13.66it/s, now=None]\u001b[A\n",
      "t:  16%|█▋        | 292/1793 [00:18<01:42, 14.69it/s, now=None]\u001b[A\n",
      "t:  16%|█▋        | 295/1793 [00:18<01:33, 15.96it/s, now=None]\u001b[A\n",
      "t:  17%|█▋        | 298/1793 [00:18<01:25, 17.42it/s, now=None]\u001b[A\n",
      "t:  17%|█▋        | 300/1793 [00:18<01:28, 16.95it/s, now=None]\u001b[A\n",
      "t:  17%|█▋        | 302/1793 [00:18<01:26, 17.16it/s, now=None]\u001b[A\n",
      "t:  17%|█▋        | 305/1793 [00:18<01:20, 18.49it/s, now=None]\u001b[A\n",
      "t:  17%|█▋        | 307/1793 [00:18<01:19, 18.67it/s, now=None]\u001b[A\n",
      "t:  17%|█▋        | 309/1793 [00:19<02:13, 11.13it/s, now=None]\u001b[A\n",
      "t:  17%|█▋        | 311/1793 [00:19<02:03, 12.00it/s, now=None]\u001b[A\n",
      "t:  17%|█▋        | 313/1793 [00:19<01:56, 12.76it/s, now=None]\u001b[A\n",
      "t:  18%|█▊        | 315/1793 [00:19<01:47, 13.79it/s, now=None]\u001b[A\n",
      "t:  18%|█▊        | 318/1793 [00:19<01:34, 15.65it/s, now=None]\u001b[A\n",
      "t:  18%|█▊        | 320/1793 [00:20<02:11, 11.18it/s, now=None]\u001b[A\n",
      "t:  18%|█▊        | 323/1793 [00:20<01:46, 13.76it/s, now=None]\u001b[A\n",
      "t:  18%|█▊        | 326/1793 [00:20<01:32, 15.78it/s, now=None]\u001b[A\n",
      "t:  18%|█▊        | 328/1793 [00:20<01:29, 16.33it/s, now=None]\u001b[A\n",
      "t:  18%|█▊        | 330/1793 [00:20<01:26, 16.97it/s, now=None]\u001b[A\n",
      "t:  19%|█▊        | 332/1793 [00:20<01:23, 17.53it/s, now=None]\u001b[A\n",
      "t:  19%|█▊        | 335/1793 [00:20<01:17, 18.88it/s, now=None]\u001b[A\n",
      "t:  19%|█▉        | 338/1793 [00:21<01:13, 19.71it/s, now=None]\u001b[A\n",
      "t:  19%|█▉        | 341/1793 [00:21<01:13, 19.67it/s, now=None]\u001b[A\n",
      "t:  19%|█▉        | 344/1793 [00:21<01:12, 19.95it/s, now=None]\u001b[A\n",
      "t:  19%|█▉        | 347/1793 [00:21<01:11, 20.15it/s, now=None]\u001b[A\n",
      "t:  20%|█▉        | 350/1793 [00:21<01:10, 20.50it/s, now=None]\u001b[A\n",
      "t:  20%|█▉        | 353/1793 [00:21<01:08, 20.90it/s, now=None]\u001b[A\n",
      "t:  20%|█▉        | 356/1793 [00:21<01:07, 21.34it/s, now=None]\u001b[A\n",
      "t:  20%|██        | 359/1793 [00:22<01:06, 21.57it/s, now=None]\u001b[A\n",
      "t:  20%|██        | 362/1793 [00:22<01:06, 21.53it/s, now=None]\u001b[A\n",
      "t:  20%|██        | 365/1793 [00:22<01:39, 14.36it/s, now=None]\u001b[A\n",
      "t:  21%|██        | 368/1793 [00:22<01:29, 15.87it/s, now=None]\u001b[A\n",
      "t:  21%|██        | 371/1793 [00:22<01:50, 12.92it/s, now=None]\u001b[A\n",
      "t:  21%|██        | 374/1793 [00:23<01:36, 14.67it/s, now=None]\u001b[A\n",
      "t:  21%|██        | 377/1793 [00:23<01:27, 16.22it/s, now=None]\u001b[A\n",
      "t:  21%|██        | 379/1793 [00:23<01:25, 16.60it/s, now=None]\u001b[A\n",
      "t:  21%|██▏       | 382/1793 [00:23<01:19, 17.78it/s, now=None]\u001b[A\n",
      "t:  21%|██▏       | 384/1793 [00:23<01:17, 18.11it/s, now=None]\u001b[A\n",
      "t:  22%|██▏       | 387/1793 [00:23<01:13, 19.03it/s, now=None]\u001b[A\n",
      "t:  22%|██▏       | 389/1793 [00:23<01:13, 19.18it/s, now=None]\u001b[A\n",
      "t:  22%|██▏       | 392/1793 [00:24<01:51, 12.52it/s, now=None]\u001b[A\n",
      "t:  22%|██▏       | 394/1793 [00:24<01:41, 13.73it/s, now=None]\u001b[A\n",
      "t:  22%|██▏       | 396/1793 [00:24<01:35, 14.59it/s, now=None]\u001b[A\n",
      "t:  22%|██▏       | 398/1793 [00:24<01:29, 15.64it/s, now=None]\u001b[A\n",
      "t:  22%|██▏       | 400/1793 [00:24<01:24, 16.57it/s, now=None]\u001b[A\n",
      "t:  22%|██▏       | 403/1793 [00:24<01:19, 17.41it/s, now=None]\u001b[A\n",
      "t:  23%|██▎       | 405/1793 [00:24<01:19, 17.37it/s, now=None]\u001b[A\n",
      "t:  23%|██▎       | 407/1793 [00:25<01:18, 17.62it/s, now=None]\u001b[A\n",
      "t:  23%|██▎       | 409/1793 [00:25<01:18, 17.61it/s, now=None]\u001b[A\n",
      "t:  23%|██▎       | 411/1793 [00:25<01:46, 12.96it/s, now=None]\u001b[A\n",
      "t:  23%|██▎       | 414/1793 [00:25<01:30, 15.20it/s, now=None]\u001b[A\n",
      "t:  23%|██▎       | 416/1793 [00:25<01:25, 16.13it/s, now=None]\u001b[A\n",
      "t:  23%|██▎       | 418/1793 [00:25<01:22, 16.71it/s, now=None]\u001b[A\n",
      "t:  23%|██▎       | 420/1793 [00:25<01:19, 17.27it/s, now=None]\u001b[A\n",
      "t:  24%|██▎       | 423/1793 [00:26<01:11, 19.04it/s, now=None]\u001b[A\n",
      "t:  24%|██▍       | 426/1793 [00:26<01:10, 19.53it/s, now=None]\u001b[A\n",
      "t:  24%|██▍       | 428/1793 [00:26<01:09, 19.62it/s, now=None]\u001b[A\n",
      "t:  24%|██▍       | 430/1793 [00:26<01:11, 19.11it/s, now=None]\u001b[A\n",
      "t:  24%|██▍       | 432/1793 [00:26<01:10, 19.28it/s, now=None]\u001b[A\n",
      "t:  24%|██▍       | 435/1793 [00:26<01:07, 20.09it/s, now=None]\u001b[A\n",
      "t:  24%|██▍       | 438/1793 [00:26<01:37, 13.95it/s, now=None]\u001b[A\n",
      "t:  25%|██▍       | 440/1793 [00:27<01:30, 15.00it/s, now=None]\u001b[A\n",
      "t:  25%|██▍       | 443/1793 [00:27<01:21, 16.57it/s, now=None]\u001b[A\n",
      "t:  25%|██▍       | 445/1793 [00:27<01:18, 17.15it/s, now=None]\u001b[A\n",
      "t:  25%|██▍       | 447/1793 [00:27<01:15, 17.79it/s, now=None]\u001b[A\n",
      "t:  25%|██▌       | 449/1793 [00:27<01:14, 17.96it/s, now=None]\u001b[A\n",
      "t:  25%|██▌       | 452/1793 [00:27<01:11, 18.74it/s, now=None]\u001b[A\n",
      "t:  25%|██▌       | 455/1793 [00:27<01:08, 19.43it/s, now=None]\u001b[A\n",
      "t:  26%|██▌       | 458/1793 [00:27<01:08, 19.48it/s, now=None]\u001b[A\n",
      "t:  26%|██▌       | 461/1793 [00:28<01:05, 20.20it/s, now=None]\u001b[A\n",
      "t:  26%|██▌       | 464/1793 [00:28<01:06, 19.84it/s, now=None]\u001b[A\n",
      "t:  26%|██▌       | 466/1793 [00:28<01:08, 19.39it/s, now=None]\u001b[A\n",
      "t:  26%|██▌       | 468/1793 [00:28<01:08, 19.36it/s, now=None]\u001b[A\n",
      "t:  26%|██▌       | 470/1793 [00:28<01:08, 19.26it/s, now=None]\u001b[A\n",
      "t:  26%|██▋       | 472/1793 [00:28<01:10, 18.78it/s, now=None]\u001b[A\n",
      "t:  26%|██▋       | 475/1793 [00:28<01:07, 19.45it/s, now=None]\u001b[A\n",
      "t:  27%|██▋       | 478/1793 [00:29<01:05, 19.95it/s, now=None]\u001b[A\n",
      "t:  27%|██▋       | 480/1793 [00:29<01:42, 12.84it/s, now=None]\u001b[A\n",
      "t:  27%|██▋       | 483/1793 [00:29<01:27, 14.99it/s, now=None]\u001b[A\n",
      "t:  27%|██▋       | 485/1793 [00:29<01:24, 15.47it/s, now=None]\u001b[A\n",
      "t:  27%|██▋       | 487/1793 [00:29<01:22, 15.89it/s, now=None]\u001b[A\n",
      "t:  27%|██▋       | 490/1793 [00:29<01:13, 17.65it/s, now=None]\u001b[A\n",
      "t:  27%|██▋       | 493/1793 [00:29<01:09, 18.69it/s, now=None]\u001b[A\n",
      "t:  28%|██▊       | 495/1793 [00:30<01:51, 11.63it/s, now=None]\u001b[A\n",
      "t:  28%|██▊       | 497/1793 [00:30<01:40, 12.92it/s, now=None]\u001b[A\n",
      "t:  28%|██▊       | 499/1793 [00:30<01:34, 13.77it/s, now=None]\u001b[A\n",
      "t:  28%|██▊       | 501/1793 [00:30<01:26, 14.98it/s, now=None]\u001b[A\n",
      "t:  28%|██▊       | 503/1793 [00:30<01:24, 15.25it/s, now=None]\u001b[A\n",
      "t:  28%|██▊       | 505/1793 [00:30<01:23, 15.42it/s, now=None]\u001b[A\n",
      "t:  28%|██▊       | 507/1793 [00:31<01:21, 15.73it/s, now=None]\u001b[A\n",
      "t:  28%|██▊       | 509/1793 [00:31<01:21, 15.77it/s, now=None]\u001b[A\n",
      "t:  28%|██▊       | 511/1793 [00:31<01:21, 15.63it/s, now=None]\u001b[A\n",
      "t:  29%|██▊       | 513/1793 [00:31<01:21, 15.71it/s, now=None]\u001b[A\n",
      "t:  29%|██▊       | 515/1793 [00:31<01:21, 15.78it/s, now=None]\u001b[A\n",
      "t:  29%|██▉       | 517/1793 [00:31<01:20, 15.89it/s, now=None]\u001b[A\n",
      "t:  29%|██▉       | 519/1793 [00:31<01:19, 15.99it/s, now=None]\u001b[A\n",
      "t:  29%|██▉       | 521/1793 [00:31<01:19, 16.10it/s, now=None]\u001b[A\n",
      "t:  29%|██▉       | 523/1793 [00:32<01:19, 15.95it/s, now=None]\u001b[A\n",
      "t:  29%|██▉       | 525/1793 [00:32<01:21, 15.65it/s, now=None]\u001b[A\n",
      "t:  29%|██▉       | 527/1793 [00:32<01:20, 15.71it/s, now=None]\u001b[A\n",
      "t:  30%|██▉       | 529/1793 [00:32<01:20, 15.76it/s, now=None]\u001b[A\n",
      "t:  30%|██▉       | 531/1793 [00:32<01:19, 15.91it/s, now=None]\u001b[A\n",
      "t:  30%|██▉       | 533/1793 [00:32<01:20, 15.69it/s, now=None]\u001b[A\n",
      "t:  30%|██▉       | 535/1793 [00:32<01:20, 15.70it/s, now=None]\u001b[A\n",
      "t:  30%|██▉       | 537/1793 [00:33<02:06,  9.94it/s, now=None]\u001b[A\n",
      "t:  30%|███       | 539/1793 [00:33<01:48, 11.57it/s, now=None]\u001b[A\n",
      "t:  30%|███       | 542/1793 [00:33<01:27, 14.25it/s, now=None]\u001b[A\n"
     ]
    },
    {
     "name": "stderr",
     "output_type": "stream",
     "text": [
      "t:  30%|███       | 544/1793 [00:33<01:21, 15.26it/s, now=None]\u001b[A\n",
      "t:  31%|███       | 547/1793 [00:33<01:12, 17.30it/s, now=None]\u001b[A\n",
      "t:  31%|███       | 549/1793 [00:33<01:09, 17.81it/s, now=None]\u001b[A\n",
      "t:  31%|███       | 552/1793 [00:33<01:05, 19.00it/s, now=None]\u001b[A\n",
      "t:  31%|███       | 554/1793 [00:34<01:05, 18.89it/s, now=None]\u001b[A\n",
      "t:  31%|███       | 556/1793 [00:34<01:05, 18.84it/s, now=None]\u001b[A\n",
      "t:  31%|███       | 558/1793 [00:34<01:07, 18.40it/s, now=None]\u001b[A"
     ]
    }
   ],
   "source": [
    "#Single Video program\n",
    "import os\n",
    "import subprocess   \n",
    "import nltk\n",
    "from nltk.tokenize import word_tokenize\n",
    "from moviepy.editor import VideoFileClip\n",
    "import pysrt\n",
    "from google.cloud import speech_v1p1beta1 as speech\n",
    "import nltk\n",
    "nltk.download('punkt')\n",
    "from moviepy.video.tools.subtitles import SubtitlesClip\n",
    "from moviepy.editor import TextClip, CompositeVideoClip, VideoFileClip\n",
    "from pydub import AudioSegment\n",
    "from pydub import effects\n",
    "\n",
    "os.environ[\"GOOGLE_APPLICATION_CREDENTIALS\"] = \"C:\\\\Users\\\\teams\\\\Downloads\\\\groovy-iris-393713-df88528a721f.json\"\n",
    "\n",
    "def preprocess_audio(audio_path):\n",
    "    # Load audio file\n",
    "    audio = AudioSegment.from_file(audio_path)\n",
    "\n",
    "    # Normalize volume\n",
    "    audio = effects.normalize(audio)\n",
    "\n",
    "    # Apply noise reduction (this might require `sox`)\n",
    "    cmd = f'sox \"{audio_path}\" \"{audio_path}\" noisered'\n",
    "    subprocess.run(cmd, shell=True)\n",
    "\n",
    "    # Save processed audio\n",
    "    audio.export(audio_path, format=\"wav\")\n",
    "\n",
    "def convert_mov_to_wav(video_path, audio_path):\n",
    "    # Provide the full path to the stereo_audio.wav file\n",
    "    mono_audio_path = \"C:\\\\Users\\\\teams\\\\Untitled Folder\\\\mono_audio.wav\"\n",
    "    \n",
    "    # Step 1: Extract mono audio from the video\n",
    "    cmd1 = f'ffmpeg -y -i \"{video_path}\" -vn -acodec pcm_s16le -ac 1 \"{mono_audio_path}\"'\n",
    "    result = subprocess.run(cmd1, shell=True, capture_output=True, text=True)\n",
    "\n",
    "    if result.returncode != 0:\n",
    "        print('ffmpeg command failed')\n",
    "        return None\n",
    "\n",
    "    print(f'Mono audio extracted to {mono_audio_path}')\n",
    "\n",
    "    # Preprocess audio\n",
    "    preprocess_audio(mono_audio_path)\n",
    "\n",
    "    # Check if the mono audio file was created correctly\n",
    "    if not os.path.isfile(mono_audio_path):\n",
    "        print(f'Error: {mono_audio_path} not found')\n",
    "        return None\n",
    "\n",
    "    return mono_audio_path\n",
    "\n",
    "def speech_to_text(audio_path):\n",
    "    client = speech.SpeechClient()\n",
    "    with open(audio_path, \"rb\") as audio_file:\n",
    "        content = audio_file.read()\n",
    "\n",
    "    audio = speech.RecognitionAudio(content=content)\n",
    "    config = speech.RecognitionConfig(\n",
    "        encoding=speech.RecognitionConfig.AudioEncoding.LINEAR16,\n",
    "        language_code=\"en-US\",\n",
    "        enable_word_time_offsets=True,  # Enable timestamps\n",
    "    )\n",
    "\n",
    "    operation = client.long_running_recognize(config=config, audio=audio)\n",
    "    response = operation.result(timeout=90)  # Wait up to 90 seconds for the operation to complete\n",
    "\n",
    "    # Create an empty list to hold all the words with their timestamps\n",
    "    words = []\n",
    "    for result in response.results:\n",
    "        for word_info in result.alternatives[0].words:\n",
    "            word = word_info.word\n",
    "            start_time = word_info.start_time.total_seconds()\n",
    "            end_time = word_info.end_time.total_seconds()\n",
    "            words.append((word, start_time, end_time))\n",
    "\n",
    "    return words\n",
    "\n",
    "def convert_words_to_text(words):\n",
    "    # concatenate words to form the text\n",
    "    text = ' '.join(word for word, _, _ in words)\n",
    "    return text\n",
    "\n",
    "def create_srt(words, output_srt_path, num_words=2):\n",
    "    subs = pysrt.SubRipFile()\n",
    "    \n",
    "    for i in range(0, len(words), num_words):\n",
    "        start_time = words[i][1]  # start time of the first word in this group\n",
    "        end_time = words[min(i+num_words-1, len(words)-1)][2]  # end time of the last word in this group\n",
    "\n",
    "        # Combine the words in this group into a single string\n",
    "        word_group = ' '.join(words[j][0] for j in range(i, min(i+num_words, len(words))))\n",
    "\n",
    "        # Convert start time and end time to pysrt.SubRipTime format\n",
    "        start_time_srt = seconds_to_subrip_time(start_time)\n",
    "        end_time_srt = seconds_to_subrip_time(end_time)\n",
    "\n",
    "        sub = pysrt.SubRipItem(i//num_words, start=start_time_srt, end=end_time_srt, text=word_group.upper())\n",
    "        subs.append(sub)\n",
    "\n",
    "    subs.save(output_srt_path, encoding='utf-8')\n",
    "\n",
    "\n",
    "def seconds_to_subrip_time(seconds):\n",
    "    # Convert seconds to hours, minutes, seconds, milliseconds\n",
    "    sec, ms = divmod(seconds, 1)\n",
    "    ms = int(ms * 1000)\n",
    "    min, sec = divmod(sec, 60)\n",
    "    hour, min = divmod(min, 60)\n",
    "    \n",
    "    return pysrt.SubRipTime(hour, min, sec, ms)\n",
    "\n",
    "\n",
    "def add_subtitles_to_video(video_path, srt_path, output_path):\n",
    "    generator = lambda txt: TextClip(txt, font='Helvetica-Bold', fontsize=72, color='white', align = 'center', stroke_color = 'black', kerning = 6, stroke_width=1)\n",
    "    sub = SubtitlesClip(srt_path, generator)\n",
    "    sub = sub.set_position(('center', 250))  # Position subtitles at center of video\n",
    "    clip = VideoFileClip(video_path)\n",
    "    final = CompositeVideoClip([clip, sub])\n",
    "    final.write_videofile(output_path, codec='libx264', audio_codec='aac', temp_audiofile='temp-audio.m4a', remove_temp=True)\n",
    "\n",
    "    \n",
    "#Make sure the file input is correct\n",
    "video_path = r\"C:\\Users\\teams\\Untitled Folder\\520DE1A9-C8E8-44EE-8D8A-FB77080FED75.mov\"\n",
    "audio_path = \"audio.wav\"\n",
    "output_srt_path = \"output.srt\"\n",
    "output_video_path = \"output.mov\"\n",
    "\n",
    "mono_audio_path = convert_mov_to_wav(video_path, audio_path) \n",
    "if mono_audio_path is not None:\n",
    "    words = speech_to_text(mono_audio_path)\n",
    "    transcript = convert_words_to_text(words)\n",
    "    create_srt(words, output_srt_path)\n",
    "    add_subtitles_to_video(video_path, output_srt_path, output_video_path)\n"
   ]
  },
  {
   "cell_type": "code",
   "execution_count": 63,
   "id": "ecd770a6",
   "metadata": {},
   "outputs": [
    {
     "name": "stderr",
     "output_type": "stream",
     "text": [
      "[nltk_data] Downloading package punkt to\n",
      "[nltk_data]     C:\\Users\\teams\\AppData\\Roaming\\nltk_data...\n",
      "[nltk_data]   Package punkt is already up-to-date!\n"
     ]
    },
    {
     "name": "stdout",
     "output_type": "stream",
     "text": [
      "Moviepy - Building video output_0_0.mov.\n",
      "MoviePy - Writing audio in temp-audio.m4a\n"
     ]
    },
    {
     "name": "stderr",
     "output_type": "stream",
     "text": [
      "                                                                      \r"
     ]
    },
    {
     "name": "stdout",
     "output_type": "stream",
     "text": [
      "MoviePy - Done.\n",
      "Moviepy - Writing video output_0_0.mov\n",
      "\n"
     ]
    },
    {
     "name": "stderr",
     "output_type": "stream",
     "text": [
      "                                                                \r"
     ]
    },
    {
     "name": "stdout",
     "output_type": "stream",
     "text": [
      "Moviepy - Done !\n",
      "Moviepy - video ready output_0_0.mov\n",
      "Moviepy - Building video output_0_1.mov.\n",
      "MoviePy - Writing audio in temp-audio.m4a\n"
     ]
    },
    {
     "name": "stderr",
     "output_type": "stream",
     "text": [
      "                                                                      \r"
     ]
    },
    {
     "name": "stdout",
     "output_type": "stream",
     "text": [
      "MoviePy - Done.\n",
      "Moviepy - Writing video output_0_1.mov\n",
      "\n"
     ]
    },
    {
     "name": "stderr",
     "output_type": "stream",
     "text": [
      "t:  11%|█         | 192/1749 [00:07<01:00, 25.63it/s, now=None]"
     ]
    },
    {
     "ename": "KeyboardInterrupt",
     "evalue": "",
     "output_type": "error",
     "traceback": [
      "\u001b[1;31m---------------------------------------------------------------------------\u001b[0m",
      "\u001b[1;31mKeyboardInterrupt\u001b[0m                         Traceback (most recent call last)",
      "\u001b[1;32m~\\AppData\\Local\\Temp/ipykernel_2104/961364592.py\u001b[0m in \u001b[0;36m<module>\u001b[1;34m\u001b[0m\n\u001b[0;32m    131\u001b[0m         \u001b[0moutput_video_path\u001b[0m \u001b[1;33m=\u001b[0m \u001b[1;34mf\"output_{i}_{j}.mov\"\u001b[0m\u001b[1;33m\u001b[0m\u001b[1;33m\u001b[0m\u001b[0m\n\u001b[0;32m    132\u001b[0m \u001b[1;33m\u001b[0m\u001b[0m\n\u001b[1;32m--> 133\u001b[1;33m         \u001b[0madd_subtitles_to_video\u001b[0m\u001b[1;33m(\u001b[0m\u001b[0mvideo_path\u001b[0m\u001b[1;33m,\u001b[0m \u001b[0moutput_srt_path\u001b[0m\u001b[1;33m,\u001b[0m \u001b[0moutput_video_path\u001b[0m\u001b[1;33m,\u001b[0m \u001b[0mcolor\u001b[0m\u001b[1;33m,\u001b[0m \u001b[0mfont\u001b[0m\u001b[1;33m)\u001b[0m\u001b[1;33m\u001b[0m\u001b[1;33m\u001b[0m\u001b[0m\n\u001b[0m\u001b[0;32m    134\u001b[0m \u001b[1;33m\u001b[0m\u001b[0m\n\u001b[0;32m    135\u001b[0m \u001b[0mvideo_path\u001b[0m \u001b[1;33m=\u001b[0m \u001b[1;34mr\"C:\\Users\\teams\\Untitled Folder\\Thousands of disappearance’s.mov\"\u001b[0m\u001b[1;33m\u001b[0m\u001b[1;33m\u001b[0m\u001b[0m\n",
      "\u001b[1;32m~\\AppData\\Local\\Temp/ipykernel_2104/961364592.py\u001b[0m in \u001b[0;36madd_subtitles_to_video\u001b[1;34m(video_path, srt_path, output_path, color, font)\u001b[0m\n\u001b[0;32m    126\u001b[0m             \u001b[0mclip\u001b[0m \u001b[1;33m=\u001b[0m \u001b[0mVideoFileClip\u001b[0m\u001b[1;33m(\u001b[0m\u001b[0mvideo_path\u001b[0m\u001b[1;33m)\u001b[0m\u001b[1;33m\u001b[0m\u001b[1;33m\u001b[0m\u001b[0m\n\u001b[0;32m    127\u001b[0m             \u001b[0mfinal\u001b[0m \u001b[1;33m=\u001b[0m \u001b[0mCompositeVideoClip\u001b[0m\u001b[1;33m(\u001b[0m\u001b[1;33m[\u001b[0m\u001b[0mclip\u001b[0m\u001b[1;33m,\u001b[0m \u001b[0msub\u001b[0m\u001b[1;33m]\u001b[0m\u001b[1;33m)\u001b[0m\u001b[1;33m\u001b[0m\u001b[1;33m\u001b[0m\u001b[0m\n\u001b[1;32m--> 128\u001b[1;33m             \u001b[0mfinal\u001b[0m\u001b[1;33m.\u001b[0m\u001b[0mwrite_videofile\u001b[0m\u001b[1;33m(\u001b[0m\u001b[0moutput_path\u001b[0m\u001b[1;33m,\u001b[0m \u001b[0mcodec\u001b[0m\u001b[1;33m=\u001b[0m\u001b[1;34m'libx264'\u001b[0m\u001b[1;33m,\u001b[0m \u001b[0maudio_codec\u001b[0m\u001b[1;33m=\u001b[0m\u001b[1;34m'aac'\u001b[0m\u001b[1;33m,\u001b[0m \u001b[0mtemp_audiofile\u001b[0m\u001b[1;33m=\u001b[0m\u001b[1;34m'temp-audio.m4a'\u001b[0m\u001b[1;33m,\u001b[0m \u001b[0mremove_temp\u001b[0m\u001b[1;33m=\u001b[0m\u001b[1;32mTrue\u001b[0m\u001b[1;33m)\u001b[0m\u001b[1;33m\u001b[0m\u001b[1;33m\u001b[0m\u001b[0m\n\u001b[0m\u001b[0;32m    129\u001b[0m \u001b[1;33m\u001b[0m\u001b[0m\n\u001b[0;32m    130\u001b[0m         \u001b[1;31m# Define the output video path\u001b[0m\u001b[1;33m\u001b[0m\u001b[1;33m\u001b[0m\u001b[0m\n",
      "\u001b[1;32m<decorator-gen-172>\u001b[0m in \u001b[0;36mwrite_videofile\u001b[1;34m(self, filename, fps, codec, bitrate, audio, audio_fps, preset, audio_nbytes, audio_codec, audio_bitrate, audio_bufsize, temp_audiofile, rewrite_audio, remove_temp, write_logfile, verbose, threads, ffmpeg_params, logger)\u001b[0m\n",
      "\u001b[1;32m~\\anaconda3\\lib\\site-packages\\moviepy\\decorators.py\u001b[0m in \u001b[0;36mrequires_duration\u001b[1;34m(f, clip, *a, **k)\u001b[0m\n\u001b[0;32m     52\u001b[0m         \u001b[1;32mraise\u001b[0m \u001b[0mValueError\u001b[0m\u001b[1;33m(\u001b[0m\u001b[1;34m\"Attribute 'duration' not set\"\u001b[0m\u001b[1;33m)\u001b[0m\u001b[1;33m\u001b[0m\u001b[1;33m\u001b[0m\u001b[0m\n\u001b[0;32m     53\u001b[0m     \u001b[1;32melse\u001b[0m\u001b[1;33m:\u001b[0m\u001b[1;33m\u001b[0m\u001b[1;33m\u001b[0m\u001b[0m\n\u001b[1;32m---> 54\u001b[1;33m         \u001b[1;32mreturn\u001b[0m \u001b[0mf\u001b[0m\u001b[1;33m(\u001b[0m\u001b[0mclip\u001b[0m\u001b[1;33m,\u001b[0m \u001b[1;33m*\u001b[0m\u001b[0ma\u001b[0m\u001b[1;33m,\u001b[0m \u001b[1;33m**\u001b[0m\u001b[0mk\u001b[0m\u001b[1;33m)\u001b[0m\u001b[1;33m\u001b[0m\u001b[1;33m\u001b[0m\u001b[0m\n\u001b[0m\u001b[0;32m     55\u001b[0m \u001b[1;33m\u001b[0m\u001b[0m\n\u001b[0;32m     56\u001b[0m \u001b[1;33m\u001b[0m\u001b[0m\n",
      "\u001b[1;32m<decorator-gen-171>\u001b[0m in \u001b[0;36mwrite_videofile\u001b[1;34m(self, filename, fps, codec, bitrate, audio, audio_fps, preset, audio_nbytes, audio_codec, audio_bitrate, audio_bufsize, temp_audiofile, rewrite_audio, remove_temp, write_logfile, verbose, threads, ffmpeg_params, logger)\u001b[0m\n",
      "\u001b[1;32m~\\anaconda3\\lib\\site-packages\\moviepy\\decorators.py\u001b[0m in \u001b[0;36muse_clip_fps_by_default\u001b[1;34m(f, clip, *a, **k)\u001b[0m\n\u001b[0;32m    133\u001b[0m              for (k,v) in k.items()}\n\u001b[0;32m    134\u001b[0m \u001b[1;33m\u001b[0m\u001b[0m\n\u001b[1;32m--> 135\u001b[1;33m     \u001b[1;32mreturn\u001b[0m \u001b[0mf\u001b[0m\u001b[1;33m(\u001b[0m\u001b[0mclip\u001b[0m\u001b[1;33m,\u001b[0m \u001b[1;33m*\u001b[0m\u001b[0mnew_a\u001b[0m\u001b[1;33m,\u001b[0m \u001b[1;33m**\u001b[0m\u001b[0mnew_kw\u001b[0m\u001b[1;33m)\u001b[0m\u001b[1;33m\u001b[0m\u001b[1;33m\u001b[0m\u001b[0m\n\u001b[0m",
      "\u001b[1;32m<decorator-gen-170>\u001b[0m in \u001b[0;36mwrite_videofile\u001b[1;34m(self, filename, fps, codec, bitrate, audio, audio_fps, preset, audio_nbytes, audio_codec, audio_bitrate, audio_bufsize, temp_audiofile, rewrite_audio, remove_temp, write_logfile, verbose, threads, ffmpeg_params, logger)\u001b[0m\n",
      "\u001b[1;32m~\\anaconda3\\lib\\site-packages\\moviepy\\decorators.py\u001b[0m in \u001b[0;36mconvert_masks_to_RGB\u001b[1;34m(f, clip, *a, **k)\u001b[0m\n\u001b[0;32m     20\u001b[0m     \u001b[1;32mif\u001b[0m \u001b[0mclip\u001b[0m\u001b[1;33m.\u001b[0m\u001b[0mismask\u001b[0m\u001b[1;33m:\u001b[0m\u001b[1;33m\u001b[0m\u001b[1;33m\u001b[0m\u001b[0m\n\u001b[0;32m     21\u001b[0m         \u001b[0mclip\u001b[0m \u001b[1;33m=\u001b[0m \u001b[0mclip\u001b[0m\u001b[1;33m.\u001b[0m\u001b[0mto_RGB\u001b[0m\u001b[1;33m(\u001b[0m\u001b[1;33m)\u001b[0m\u001b[1;33m\u001b[0m\u001b[1;33m\u001b[0m\u001b[0m\n\u001b[1;32m---> 22\u001b[1;33m     \u001b[1;32mreturn\u001b[0m \u001b[0mf\u001b[0m\u001b[1;33m(\u001b[0m\u001b[0mclip\u001b[0m\u001b[1;33m,\u001b[0m \u001b[1;33m*\u001b[0m\u001b[0ma\u001b[0m\u001b[1;33m,\u001b[0m \u001b[1;33m**\u001b[0m\u001b[0mk\u001b[0m\u001b[1;33m)\u001b[0m\u001b[1;33m\u001b[0m\u001b[1;33m\u001b[0m\u001b[0m\n\u001b[0m\u001b[0;32m     23\u001b[0m \u001b[1;33m\u001b[0m\u001b[0m\n\u001b[0;32m     24\u001b[0m \u001b[1;33m@\u001b[0m\u001b[0mdecorator\u001b[0m\u001b[1;33m.\u001b[0m\u001b[0mdecorator\u001b[0m\u001b[1;33m\u001b[0m\u001b[1;33m\u001b[0m\u001b[0m\n",
      "\u001b[1;32m~\\anaconda3\\lib\\site-packages\\moviepy\\video\\VideoClip.py\u001b[0m in \u001b[0;36mwrite_videofile\u001b[1;34m(self, filename, fps, codec, bitrate, audio, audio_fps, preset, audio_nbytes, audio_codec, audio_bitrate, audio_bufsize, temp_audiofile, rewrite_audio, remove_temp, write_logfile, verbose, threads, ffmpeg_params, logger)\u001b[0m\n\u001b[0;32m    298\u001b[0m                                        logger=logger)\n\u001b[0;32m    299\u001b[0m \u001b[1;33m\u001b[0m\u001b[0m\n\u001b[1;32m--> 300\u001b[1;33m         ffmpeg_write_video(self, filename, fps, codec,\n\u001b[0m\u001b[0;32m    301\u001b[0m                            \u001b[0mbitrate\u001b[0m\u001b[1;33m=\u001b[0m\u001b[0mbitrate\u001b[0m\u001b[1;33m,\u001b[0m\u001b[1;33m\u001b[0m\u001b[1;33m\u001b[0m\u001b[0m\n\u001b[0;32m    302\u001b[0m                            \u001b[0mpreset\u001b[0m\u001b[1;33m=\u001b[0m\u001b[0mpreset\u001b[0m\u001b[1;33m,\u001b[0m\u001b[1;33m\u001b[0m\u001b[1;33m\u001b[0m\u001b[0m\n",
      "\u001b[1;32m~\\anaconda3\\lib\\site-packages\\moviepy\\video\\io\\ffmpeg_writer.py\u001b[0m in \u001b[0;36mffmpeg_write_video\u001b[1;34m(clip, filename, fps, codec, bitrate, preset, withmask, write_logfile, audiofile, verbose, threads, ffmpeg_params, logger)\u001b[0m\n\u001b[0;32m    226\u001b[0m                 \u001b[0mframe\u001b[0m \u001b[1;33m=\u001b[0m \u001b[0mnp\u001b[0m\u001b[1;33m.\u001b[0m\u001b[0mdstack\u001b[0m\u001b[1;33m(\u001b[0m\u001b[1;33m[\u001b[0m\u001b[0mframe\u001b[0m\u001b[1;33m,\u001b[0m\u001b[0mmask\u001b[0m\u001b[1;33m]\u001b[0m\u001b[1;33m)\u001b[0m\u001b[1;33m\u001b[0m\u001b[1;33m\u001b[0m\u001b[0m\n\u001b[0;32m    227\u001b[0m \u001b[1;33m\u001b[0m\u001b[0m\n\u001b[1;32m--> 228\u001b[1;33m             \u001b[0mwriter\u001b[0m\u001b[1;33m.\u001b[0m\u001b[0mwrite_frame\u001b[0m\u001b[1;33m(\u001b[0m\u001b[0mframe\u001b[0m\u001b[1;33m)\u001b[0m\u001b[1;33m\u001b[0m\u001b[1;33m\u001b[0m\u001b[0m\n\u001b[0m\u001b[0;32m    229\u001b[0m \u001b[1;33m\u001b[0m\u001b[0m\n\u001b[0;32m    230\u001b[0m     \u001b[1;32mif\u001b[0m \u001b[0mwrite_logfile\u001b[0m\u001b[1;33m:\u001b[0m\u001b[1;33m\u001b[0m\u001b[1;33m\u001b[0m\u001b[0m\n",
      "\u001b[1;32m~\\anaconda3\\lib\\site-packages\\moviepy\\video\\io\\ffmpeg_writer.py\u001b[0m in \u001b[0;36mwrite_frame\u001b[1;34m(self, img_array)\u001b[0m\n\u001b[0;32m    134\u001b[0m         \u001b[1;32mtry\u001b[0m\u001b[1;33m:\u001b[0m\u001b[1;33m\u001b[0m\u001b[1;33m\u001b[0m\u001b[0m\n\u001b[0;32m    135\u001b[0m             \u001b[1;32mif\u001b[0m \u001b[0mPY3\u001b[0m\u001b[1;33m:\u001b[0m\u001b[1;33m\u001b[0m\u001b[1;33m\u001b[0m\u001b[0m\n\u001b[1;32m--> 136\u001b[1;33m                \u001b[0mself\u001b[0m\u001b[1;33m.\u001b[0m\u001b[0mproc\u001b[0m\u001b[1;33m.\u001b[0m\u001b[0mstdin\u001b[0m\u001b[1;33m.\u001b[0m\u001b[0mwrite\u001b[0m\u001b[1;33m(\u001b[0m\u001b[0mimg_array\u001b[0m\u001b[1;33m.\u001b[0m\u001b[0mtobytes\u001b[0m\u001b[1;33m(\u001b[0m\u001b[1;33m)\u001b[0m\u001b[1;33m)\u001b[0m\u001b[1;33m\u001b[0m\u001b[1;33m\u001b[0m\u001b[0m\n\u001b[0m\u001b[0;32m    137\u001b[0m             \u001b[1;32melse\u001b[0m\u001b[1;33m:\u001b[0m\u001b[1;33m\u001b[0m\u001b[1;33m\u001b[0m\u001b[0m\n\u001b[0;32m    138\u001b[0m                \u001b[0mself\u001b[0m\u001b[1;33m.\u001b[0m\u001b[0mproc\u001b[0m\u001b[1;33m.\u001b[0m\u001b[0mstdin\u001b[0m\u001b[1;33m.\u001b[0m\u001b[0mwrite\u001b[0m\u001b[1;33m(\u001b[0m\u001b[0mimg_array\u001b[0m\u001b[1;33m.\u001b[0m\u001b[0mtostring\u001b[0m\u001b[1;33m(\u001b[0m\u001b[1;33m)\u001b[0m\u001b[1;33m)\u001b[0m\u001b[1;33m\u001b[0m\u001b[1;33m\u001b[0m\u001b[0m\n",
      "\u001b[1;31mKeyboardInterrupt\u001b[0m: "
     ]
    }
   ],
   "source": [
    "#Multi Video program\n",
    "\n",
    "import os\n",
    "import subprocess   \n",
    "import nltk\n",
    "from nltk.tokenize import word_tokenize\n",
    "from moviepy.editor import VideoFileClip\n",
    "import pysrt\n",
    "from google.cloud import speech_v1p1beta1 as speech\n",
    "import nltk\n",
    "nltk.download('punkt')\n",
    "from moviepy.video.tools.subtitles import SubtitlesClip\n",
    "from moviepy.editor import TextClip, CompositeVideoClip, VideoFileClip\n",
    "from pydub import AudioSegment\n",
    "from pydub import effects\n",
    "\n",
    "os.environ[\"GOOGLE_APPLICATION_CREDENTIALS\"] = \"C:\\\\Users\\\\teams\\\\Downloads\\\\groovy-iris-393713-df88528a721f.json\"\n",
    "\n",
    "def preprocess_audio(audio_path):\n",
    "    # Load audio file\n",
    "    audio = AudioSegment.from_file(audio_path)\n",
    "\n",
    "    # Normalize volume\n",
    "    audio = effects.normalize(audio)\n",
    "\n",
    "    # Apply noise reduction (this might require `sox`)\n",
    "    cmd = f'sox \"{audio_path}\" \"{audio_path}\" noisered'\n",
    "    subprocess.run(cmd, shell=True)\n",
    "\n",
    "    # Save processed audio\n",
    "    audio.export(audio_path, format=\"wav\")\n",
    "\n",
    "def convert_mov_to_wav(video_path, audio_path):\n",
    "    # Provide the full path to the stereo_audio.wav file\n",
    "    mono_audio_path = \"C:\\\\Users\\\\teams\\\\Untitled Folder\\\\mono_audio.wav\"\n",
    "    \n",
    "    # Step 1: Extract mono audio from the video\n",
    "    cmd1 = f'ffmpeg -y -i \"{video_path}\" -vn -acodec pcm_s16le -ac 1 \"{mono_audio_path}\"'\n",
    "    result = subprocess.run(cmd1, shell=True, capture_output=True, text=True)\n",
    "\n",
    "    if result.returncode != 0:\n",
    "        print('ffmpeg command failed')\n",
    "        return None\n",
    "\n",
    "    print(f'Mono audio extracted to {mono_audio_path}')\n",
    "\n",
    "    # Preprocess audio\n",
    "    preprocess_audio(mono_audio_path)\n",
    "\n",
    "    # Check if the mono audio file was created correctly\n",
    "    if not os.path.isfile(mono_audio_path):\n",
    "        print(f'Error: {mono_audio_path} not found')\n",
    "        return None\n",
    "\n",
    "    return mono_audio_path\n",
    "\n",
    "def speech_to_text(audio_path):\n",
    "    client = speech.SpeechClient()\n",
    "    with open(audio_path, \"rb\") as audio_file:\n",
    "        content = audio_file.read()\n",
    "\n",
    "    audio = speech.RecognitionAudio(content=content)\n",
    "    config = speech.RecognitionConfig(\n",
    "        encoding=speech.RecognitionConfig.AudioEncoding.LINEAR16,\n",
    "        language_code=\"en-US\",\n",
    "        enable_word_time_offsets=True,  # Enable timestamps\n",
    "    )\n",
    "\n",
    "    operation = client.long_running_recognize(config=config, audio=audio)\n",
    "    response = operation.result(timeout=90)  # Wait up to 90 seconds for the operation to complete\n",
    "\n",
    "    # Create an empty list to hold all the words with their timestamps\n",
    "    words = []\n",
    "    for result in response.results:\n",
    "        for word_info in result.alternatives[0].words:\n",
    "            word = word_info.word\n",
    "            start_time = word_info.start_time.total_seconds()\n",
    "            end_time = word_info.end_time.total_seconds()\n",
    "            words.append((word, start_time, end_time))\n",
    "\n",
    "    return words\n",
    "\n",
    "def convert_words_to_text(words):\n",
    "    # concatenate words to form the text\n",
    "    text = ' '.join(word for word, _, _ in words)\n",
    "    return text\n",
    "\n",
    "def create_srt(words, output_srt_path):\n",
    "    subs = pysrt.SubRipFile()\n",
    "    for i, word_info in enumerate(words):\n",
    "        word, start_time, end_time = word_info\n",
    "\n",
    "        # Convert start time and end time to pysrt.SubRipTime format\n",
    "        start_time_srt = seconds_to_subrip_time(start_time)\n",
    "        end_time_srt = seconds_to_subrip_time(end_time)\n",
    "\n",
    "        sub = pysrt.SubRipItem(i, start=start_time_srt, end=end_time_srt, text=word.upper())\n",
    "        subs.append(sub)\n",
    "\n",
    "    subs.save(output_srt_path, encoding='utf-8')\n",
    "\n",
    "def seconds_to_subrip_time(seconds):\n",
    "    # Convert seconds to hours, minutes, seconds, milliseconds\n",
    "    sec, ms = divmod(seconds, 1)\n",
    "    ms = int(ms * 1000)\n",
    "    min, sec = divmod(sec, 60)\n",
    "    hour, min = divmod(min, 60)\n",
    "    \n",
    "    return pysrt.SubRipTime(hour, min, sec, ms)\n",
    "\n",
    "\n",
    "# Define a list of colors for the subtitles\n",
    "colors = ['red', 'green', 'blue', 'yellow']\n",
    "\n",
    "# Define a list of fonts for the subtitles\n",
    "fonts = ['Helvetica-Bold', 'Arial-Bold', 'Times-Roman', 'Courier']\n",
    "\n",
    "\n",
    "#This will generate 4x4= 16 different videos. (e.g For each color it will generate 4 diffent video one for each font)\n",
    "for i, color in enumerate(colors):\n",
    "    for j, font in enumerate(fonts):\n",
    "        # Use the color and font for the subtitles\n",
    "        def add_subtitles_to_video(video_path, srt_path, output_path, color, font):\n",
    "            generator = lambda txt: TextClip(txt, font=font, fontsize=56, color=color, align='center', stroke_color='black', kerning=6, stroke_width=1)\n",
    "            sub = SubtitlesClip(srt_path, generator)\n",
    "            sub = sub.set_position(('center', 250))  # Position subtitles at center of video\n",
    "            clip = VideoFileClip(video_path)\n",
    "            final = CompositeVideoClip([clip, sub])\n",
    "            final.write_videofile(output_path, codec='libx264', audio_codec='aac', temp_audiofile='temp-audio.m4a', remove_temp=True)\n",
    "\n",
    "        # Define the output video path\n",
    "        output_video_path = f\"output_{i}_{j}.mov\"\n",
    "\n",
    "        add_subtitles_to_video(video_path, output_srt_path, output_video_path, color, font)\n",
    "\n",
    "video_path = r\"C:\\Users\\teams\\Untitled Folder\\Thousands of disappearance’s.mov\"\n",
    "audio_path = \"audio.wav\"\n",
    "output_srt_path = \"output.srt\"\n",
    "output_video_path = \"output.mov\"\n",
    "\n",
    "mono_audio_path = convert_mov_to_wav(video_path, audio_path) \n",
    "if mono_audio_path is not None:\n",
    "    words = speech_to_text(mono_audio_path)\n",
    "    transcript = convert_words_to_text(words)\n",
    "    create_srt(words, output_srt_path)\n",
    "    add_subtitles_to_video(video_path, output_srt_path, output_video_path)\n"
   ]
  },
  {
   "cell_type": "code",
   "execution_count": 7,
   "id": "56d468b0",
   "metadata": {
    "scrolled": true
   },
   "outputs": [
    {
     "ename": "SyntaxError",
     "evalue": "(unicode error) 'unicodeescape' codec can't decode bytes in position 0-1: truncated \\UXXXXXXXX escape (Temp/ipykernel_19680/1338072734.py, line 55)",
     "output_type": "error",
     "traceback": [
      "\u001b[1;36m  File \u001b[1;32m\"C:\\Users\\teams\\AppData\\Local\\Temp/ipykernel_19680/1338072734.py\"\u001b[1;36m, line \u001b[1;32m55\u001b[0m\n\u001b[1;33m    output_srt = \"\\Users\\teams\\Untitled Folder\\output.srt\"\u001b[0m\n\u001b[1;37m                                                          ^\u001b[0m\n\u001b[1;31mSyntaxError\u001b[0m\u001b[1;31m:\u001b[0m (unicode error) 'unicodeescape' codec can't decode bytes in position 0-1: truncated \\UXXXXXXXX escape\n"
     ]
    }
   ],
   "source": []
  },
  {
   "cell_type": "code",
   "execution_count": 9,
   "id": "36fbb5eb",
   "metadata": {
    "scrolled": true
   },
   "outputs": [
    {
     "name": "stdout",
     "output_type": "stream",
     "text": [
      "Moviepy - Building video output_with_subtitles.mp4.\n",
      "MoviePy - Writing audio in output_with_subtitlesTEMP_MPY_wvf_snd.mp3\n"
     ]
    },
    {
     "name": "stderr",
     "output_type": "stream",
     "text": [
      "                                                                      \r"
     ]
    },
    {
     "name": "stdout",
     "output_type": "stream",
     "text": [
      "MoviePy - Done.\n",
      "Moviepy - Writing video output_with_subtitles.mp4\n",
      "\n"
     ]
    },
    {
     "name": "stderr",
     "output_type": "stream",
     "text": [
      "                                                                \r"
     ]
    },
    {
     "name": "stdout",
     "output_type": "stream",
     "text": [
      "Moviepy - Done !\n",
      "Moviepy - video ready output_with_subtitles.mp4\n",
      "Subtitles added successfully!\n"
     ]
    }
   ],
   "source": []
  },
  {
   "cell_type": "code",
   "execution_count": 22,
   "id": "b4927869",
   "metadata": {
    "scrolled": false
   },
   "outputs": [
    {
     "name": "stdout",
     "output_type": "stream",
     "text": [
      "MoviePy - Writing audio in audio.wav\n"
     ]
    },
    {
     "name": "stderr",
     "output_type": "stream",
     "text": [
      "                                                                      \r"
     ]
    },
    {
     "name": "stdout",
     "output_type": "stream",
     "text": [
      "MoviePy - Done.\n"
     ]
    },
    {
     "ename": "RequestError",
     "evalue": "recognition request failed: Unauthorized",
     "output_type": "error",
     "traceback": [
      "\u001b[1;31m---------------------------------------------------------------------------\u001b[0m",
      "\u001b[1;31mHTTPError\u001b[0m                                 Traceback (most recent call last)",
      "\u001b[1;32m~\\anaconda3\\lib\\site-packages\\speech_recognition\\__init__.py\u001b[0m in \u001b[0;36mrecognize_google\u001b[1;34m(self, audio_data, key, language, pfilter, show_all, with_confidence)\u001b[0m\n\u001b[0;32m    707\u001b[0m         \u001b[1;32mtry\u001b[0m\u001b[1;33m:\u001b[0m\u001b[1;33m\u001b[0m\u001b[1;33m\u001b[0m\u001b[0m\n\u001b[1;32m--> 708\u001b[1;33m             \u001b[0mresponse\u001b[0m \u001b[1;33m=\u001b[0m \u001b[0murlopen\u001b[0m\u001b[1;33m(\u001b[0m\u001b[0mrequest\u001b[0m\u001b[1;33m,\u001b[0m \u001b[0mtimeout\u001b[0m\u001b[1;33m=\u001b[0m\u001b[0mself\u001b[0m\u001b[1;33m.\u001b[0m\u001b[0moperation_timeout\u001b[0m\u001b[1;33m)\u001b[0m\u001b[1;33m\u001b[0m\u001b[1;33m\u001b[0m\u001b[0m\n\u001b[0m\u001b[0;32m    709\u001b[0m         \u001b[1;32mexcept\u001b[0m \u001b[0mHTTPError\u001b[0m \u001b[1;32mas\u001b[0m \u001b[0me\u001b[0m\u001b[1;33m:\u001b[0m\u001b[1;33m\u001b[0m\u001b[1;33m\u001b[0m\u001b[0m\n",
      "\u001b[1;32m~\\anaconda3\\lib\\urllib\\request.py\u001b[0m in \u001b[0;36murlopen\u001b[1;34m(url, data, timeout, cafile, capath, cadefault, context)\u001b[0m\n\u001b[0;32m    213\u001b[0m         \u001b[0mopener\u001b[0m \u001b[1;33m=\u001b[0m \u001b[0m_opener\u001b[0m\u001b[1;33m\u001b[0m\u001b[1;33m\u001b[0m\u001b[0m\n\u001b[1;32m--> 214\u001b[1;33m     \u001b[1;32mreturn\u001b[0m \u001b[0mopener\u001b[0m\u001b[1;33m.\u001b[0m\u001b[0mopen\u001b[0m\u001b[1;33m(\u001b[0m\u001b[0murl\u001b[0m\u001b[1;33m,\u001b[0m \u001b[0mdata\u001b[0m\u001b[1;33m,\u001b[0m \u001b[0mtimeout\u001b[0m\u001b[1;33m)\u001b[0m\u001b[1;33m\u001b[0m\u001b[1;33m\u001b[0m\u001b[0m\n\u001b[0m\u001b[0;32m    215\u001b[0m \u001b[1;33m\u001b[0m\u001b[0m\n",
      "\u001b[1;32m~\\anaconda3\\lib\\urllib\\request.py\u001b[0m in \u001b[0;36mopen\u001b[1;34m(self, fullurl, data, timeout)\u001b[0m\n\u001b[0;32m    522\u001b[0m             \u001b[0mmeth\u001b[0m \u001b[1;33m=\u001b[0m \u001b[0mgetattr\u001b[0m\u001b[1;33m(\u001b[0m\u001b[0mprocessor\u001b[0m\u001b[1;33m,\u001b[0m \u001b[0mmeth_name\u001b[0m\u001b[1;33m)\u001b[0m\u001b[1;33m\u001b[0m\u001b[1;33m\u001b[0m\u001b[0m\n\u001b[1;32m--> 523\u001b[1;33m             \u001b[0mresponse\u001b[0m \u001b[1;33m=\u001b[0m \u001b[0mmeth\u001b[0m\u001b[1;33m(\u001b[0m\u001b[0mreq\u001b[0m\u001b[1;33m,\u001b[0m \u001b[0mresponse\u001b[0m\u001b[1;33m)\u001b[0m\u001b[1;33m\u001b[0m\u001b[1;33m\u001b[0m\u001b[0m\n\u001b[0m\u001b[0;32m    524\u001b[0m \u001b[1;33m\u001b[0m\u001b[0m\n",
      "\u001b[1;32m~\\anaconda3\\lib\\urllib\\request.py\u001b[0m in \u001b[0;36mhttp_response\u001b[1;34m(self, request, response)\u001b[0m\n\u001b[0;32m    631\u001b[0m         \u001b[1;32mif\u001b[0m \u001b[1;32mnot\u001b[0m \u001b[1;33m(\u001b[0m\u001b[1;36m200\u001b[0m \u001b[1;33m<=\u001b[0m \u001b[0mcode\u001b[0m \u001b[1;33m<\u001b[0m \u001b[1;36m300\u001b[0m\u001b[1;33m)\u001b[0m\u001b[1;33m:\u001b[0m\u001b[1;33m\u001b[0m\u001b[1;33m\u001b[0m\u001b[0m\n\u001b[1;32m--> 632\u001b[1;33m             response = self.parent.error(\n\u001b[0m\u001b[0;32m    633\u001b[0m                 'http', request, response, code, msg, hdrs)\n",
      "\u001b[1;32m~\\anaconda3\\lib\\urllib\\request.py\u001b[0m in \u001b[0;36merror\u001b[1;34m(self, proto, *args)\u001b[0m\n\u001b[0;32m    560\u001b[0m             \u001b[0margs\u001b[0m \u001b[1;33m=\u001b[0m \u001b[1;33m(\u001b[0m\u001b[0mdict\u001b[0m\u001b[1;33m,\u001b[0m \u001b[1;34m'default'\u001b[0m\u001b[1;33m,\u001b[0m \u001b[1;34m'http_error_default'\u001b[0m\u001b[1;33m)\u001b[0m \u001b[1;33m+\u001b[0m \u001b[0morig_args\u001b[0m\u001b[1;33m\u001b[0m\u001b[1;33m\u001b[0m\u001b[0m\n\u001b[1;32m--> 561\u001b[1;33m             \u001b[1;32mreturn\u001b[0m \u001b[0mself\u001b[0m\u001b[1;33m.\u001b[0m\u001b[0m_call_chain\u001b[0m\u001b[1;33m(\u001b[0m\u001b[1;33m*\u001b[0m\u001b[0margs\u001b[0m\u001b[1;33m)\u001b[0m\u001b[1;33m\u001b[0m\u001b[1;33m\u001b[0m\u001b[0m\n\u001b[0m\u001b[0;32m    562\u001b[0m \u001b[1;33m\u001b[0m\u001b[0m\n",
      "\u001b[1;32m~\\anaconda3\\lib\\urllib\\request.py\u001b[0m in \u001b[0;36m_call_chain\u001b[1;34m(self, chain, kind, meth_name, *args)\u001b[0m\n\u001b[0;32m    493\u001b[0m             \u001b[0mfunc\u001b[0m \u001b[1;33m=\u001b[0m \u001b[0mgetattr\u001b[0m\u001b[1;33m(\u001b[0m\u001b[0mhandler\u001b[0m\u001b[1;33m,\u001b[0m \u001b[0mmeth_name\u001b[0m\u001b[1;33m)\u001b[0m\u001b[1;33m\u001b[0m\u001b[1;33m\u001b[0m\u001b[0m\n\u001b[1;32m--> 494\u001b[1;33m             \u001b[0mresult\u001b[0m \u001b[1;33m=\u001b[0m \u001b[0mfunc\u001b[0m\u001b[1;33m(\u001b[0m\u001b[1;33m*\u001b[0m\u001b[0margs\u001b[0m\u001b[1;33m)\u001b[0m\u001b[1;33m\u001b[0m\u001b[1;33m\u001b[0m\u001b[0m\n\u001b[0m\u001b[0;32m    495\u001b[0m             \u001b[1;32mif\u001b[0m \u001b[0mresult\u001b[0m \u001b[1;32mis\u001b[0m \u001b[1;32mnot\u001b[0m \u001b[1;32mNone\u001b[0m\u001b[1;33m:\u001b[0m\u001b[1;33m\u001b[0m\u001b[1;33m\u001b[0m\u001b[0m\n",
      "\u001b[1;32m~\\anaconda3\\lib\\urllib\\request.py\u001b[0m in \u001b[0;36mhttp_error_default\u001b[1;34m(self, req, fp, code, msg, hdrs)\u001b[0m\n\u001b[0;32m    640\u001b[0m     \u001b[1;32mdef\u001b[0m \u001b[0mhttp_error_default\u001b[0m\u001b[1;33m(\u001b[0m\u001b[0mself\u001b[0m\u001b[1;33m,\u001b[0m \u001b[0mreq\u001b[0m\u001b[1;33m,\u001b[0m \u001b[0mfp\u001b[0m\u001b[1;33m,\u001b[0m \u001b[0mcode\u001b[0m\u001b[1;33m,\u001b[0m \u001b[0mmsg\u001b[0m\u001b[1;33m,\u001b[0m \u001b[0mhdrs\u001b[0m\u001b[1;33m)\u001b[0m\u001b[1;33m:\u001b[0m\u001b[1;33m\u001b[0m\u001b[1;33m\u001b[0m\u001b[0m\n\u001b[1;32m--> 641\u001b[1;33m         \u001b[1;32mraise\u001b[0m \u001b[0mHTTPError\u001b[0m\u001b[1;33m(\u001b[0m\u001b[0mreq\u001b[0m\u001b[1;33m.\u001b[0m\u001b[0mfull_url\u001b[0m\u001b[1;33m,\u001b[0m \u001b[0mcode\u001b[0m\u001b[1;33m,\u001b[0m \u001b[0mmsg\u001b[0m\u001b[1;33m,\u001b[0m \u001b[0mhdrs\u001b[0m\u001b[1;33m,\u001b[0m \u001b[0mfp\u001b[0m\u001b[1;33m)\u001b[0m\u001b[1;33m\u001b[0m\u001b[1;33m\u001b[0m\u001b[0m\n\u001b[0m\u001b[0;32m    642\u001b[0m \u001b[1;33m\u001b[0m\u001b[0m\n",
      "\u001b[1;31mHTTPError\u001b[0m: HTTP Error 401: Unauthorized",
      "\nDuring handling of the above exception, another exception occurred:\n",
      "\u001b[1;31mRequestError\u001b[0m                              Traceback (most recent call last)",
      "\u001b[1;32m~\\AppData\\Local\\Temp/ipykernel_19680/1100521223.py\u001b[0m in \u001b[0;36m<module>\u001b[1;34m\u001b[0m\n\u001b[0;32m     41\u001b[0m \u001b[1;33m\u001b[0m\u001b[0m\n\u001b[0;32m     42\u001b[0m \u001b[0mconvert_mov_to_wav\u001b[0m\u001b[1;33m(\u001b[0m\u001b[0mvideo_path\u001b[0m\u001b[1;33m,\u001b[0m \u001b[0maudio_path\u001b[0m\u001b[1;33m)\u001b[0m\u001b[1;33m\u001b[0m\u001b[1;33m\u001b[0m\u001b[0m\n\u001b[1;32m---> 43\u001b[1;33m \u001b[0mtranscript\u001b[0m \u001b[1;33m=\u001b[0m \u001b[0mspeech_to_text\u001b[0m\u001b[1;33m(\u001b[0m\u001b[0maudio_path\u001b[0m\u001b[1;33m,\u001b[0m \u001b[0mAPI_KEY\u001b[0m\u001b[1;33m)\u001b[0m\u001b[1;33m\u001b[0m\u001b[1;33m\u001b[0m\u001b[0m\n\u001b[0m\u001b[0;32m     44\u001b[0m \u001b[0mpunctuated_transcript\u001b[0m \u001b[1;33m=\u001b[0m \u001b[0madd_punctuation\u001b[0m\u001b[1;33m(\u001b[0m\u001b[0mtranscript\u001b[0m\u001b[1;33m)\u001b[0m\u001b[1;33m\u001b[0m\u001b[1;33m\u001b[0m\u001b[0m\n\u001b[0;32m     45\u001b[0m \u001b[0mcreate_srt\u001b[0m\u001b[1;33m(\u001b[0m\u001b[0mpunctuated_transcript\u001b[0m\u001b[1;33m,\u001b[0m \u001b[0moutput_srt_path\u001b[0m\u001b[1;33m)\u001b[0m\u001b[1;33m\u001b[0m\u001b[1;33m\u001b[0m\u001b[0m\n",
      "\u001b[1;32m~\\AppData\\Local\\Temp/ipykernel_19680/1100521223.py\u001b[0m in \u001b[0;36mspeech_to_text\u001b[1;34m(audio_path, key)\u001b[0m\n\u001b[0;32m     18\u001b[0m     \u001b[1;32mwith\u001b[0m \u001b[0msr\u001b[0m\u001b[1;33m.\u001b[0m\u001b[0mAudioFile\u001b[0m\u001b[1;33m(\u001b[0m\u001b[0maudio_path\u001b[0m\u001b[1;33m)\u001b[0m \u001b[1;32mas\u001b[0m \u001b[0msource\u001b[0m\u001b[1;33m:\u001b[0m\u001b[1;33m\u001b[0m\u001b[1;33m\u001b[0m\u001b[0m\n\u001b[0;32m     19\u001b[0m         \u001b[0maudio_data\u001b[0m \u001b[1;33m=\u001b[0m \u001b[0mr\u001b[0m\u001b[1;33m.\u001b[0m\u001b[0mrecord\u001b[0m\u001b[1;33m(\u001b[0m\u001b[0msource\u001b[0m\u001b[1;33m)\u001b[0m\u001b[1;33m\u001b[0m\u001b[1;33m\u001b[0m\u001b[0m\n\u001b[1;32m---> 20\u001b[1;33m         \u001b[0mtext\u001b[0m \u001b[1;33m=\u001b[0m \u001b[0mr\u001b[0m\u001b[1;33m.\u001b[0m\u001b[0mrecognize_google\u001b[0m\u001b[1;33m(\u001b[0m\u001b[0maudio_data\u001b[0m\u001b[1;33m,\u001b[0m \u001b[0mkey\u001b[0m\u001b[1;33m=\u001b[0m\u001b[0mkey\u001b[0m\u001b[1;33m)\u001b[0m\u001b[1;33m\u001b[0m\u001b[1;33m\u001b[0m\u001b[0m\n\u001b[0m\u001b[0;32m     21\u001b[0m         \u001b[1;32mreturn\u001b[0m \u001b[0mtext\u001b[0m\u001b[1;33m\u001b[0m\u001b[1;33m\u001b[0m\u001b[0m\n\u001b[0;32m     22\u001b[0m \u001b[1;33m\u001b[0m\u001b[0m\n",
      "\u001b[1;32m~\\anaconda3\\lib\\site-packages\\speech_recognition\\__init__.py\u001b[0m in \u001b[0;36mrecognize_google\u001b[1;34m(self, audio_data, key, language, pfilter, show_all, with_confidence)\u001b[0m\n\u001b[0;32m    708\u001b[0m             \u001b[0mresponse\u001b[0m \u001b[1;33m=\u001b[0m \u001b[0murlopen\u001b[0m\u001b[1;33m(\u001b[0m\u001b[0mrequest\u001b[0m\u001b[1;33m,\u001b[0m \u001b[0mtimeout\u001b[0m\u001b[1;33m=\u001b[0m\u001b[0mself\u001b[0m\u001b[1;33m.\u001b[0m\u001b[0moperation_timeout\u001b[0m\u001b[1;33m)\u001b[0m\u001b[1;33m\u001b[0m\u001b[1;33m\u001b[0m\u001b[0m\n\u001b[0;32m    709\u001b[0m         \u001b[1;32mexcept\u001b[0m \u001b[0mHTTPError\u001b[0m \u001b[1;32mas\u001b[0m \u001b[0me\u001b[0m\u001b[1;33m:\u001b[0m\u001b[1;33m\u001b[0m\u001b[1;33m\u001b[0m\u001b[0m\n\u001b[1;32m--> 710\u001b[1;33m             \u001b[1;32mraise\u001b[0m \u001b[0mRequestError\u001b[0m\u001b[1;33m(\u001b[0m\u001b[1;34m\"recognition request failed: {}\"\u001b[0m\u001b[1;33m.\u001b[0m\u001b[0mformat\u001b[0m\u001b[1;33m(\u001b[0m\u001b[0me\u001b[0m\u001b[1;33m.\u001b[0m\u001b[0mreason\u001b[0m\u001b[1;33m)\u001b[0m\u001b[1;33m)\u001b[0m\u001b[1;33m\u001b[0m\u001b[1;33m\u001b[0m\u001b[0m\n\u001b[0m\u001b[0;32m    711\u001b[0m         \u001b[1;32mexcept\u001b[0m \u001b[0mURLError\u001b[0m \u001b[1;32mas\u001b[0m \u001b[0me\u001b[0m\u001b[1;33m:\u001b[0m\u001b[1;33m\u001b[0m\u001b[1;33m\u001b[0m\u001b[0m\n\u001b[0;32m    712\u001b[0m             \u001b[1;32mraise\u001b[0m \u001b[0mRequestError\u001b[0m\u001b[1;33m(\u001b[0m\u001b[1;34m\"recognition connection failed: {}\"\u001b[0m\u001b[1;33m.\u001b[0m\u001b[0mformat\u001b[0m\u001b[1;33m(\u001b[0m\u001b[0me\u001b[0m\u001b[1;33m.\u001b[0m\u001b[0mreason\u001b[0m\u001b[1;33m)\u001b[0m\u001b[1;33m)\u001b[0m\u001b[1;33m\u001b[0m\u001b[1;33m\u001b[0m\u001b[0m\n",
      "\u001b[1;31mRequestError\u001b[0m: recognition request failed: Unauthorized"
     ]
    }
   ],
   "source": []
  },
  {
   "cell_type": "code",
   "execution_count": 43,
   "id": "b867cf0d",
   "metadata": {
    "scrolled": true
   },
   "outputs": [
    {
     "name": "stderr",
     "output_type": "stream",
     "text": [
      "[nltk_data] Downloading package punkt to\n",
      "[nltk_data]     C:\\Users\\teams\\AppData\\Roaming\\nltk_data...\n",
      "[nltk_data]   Package punkt is already up-to-date!\n"
     ]
    },
    {
     "name": "stdout",
     "output_type": "stream",
     "text": [
      "Mono audio extracted to C:\\Users\\teams\\Untitled Folder\\mono_audio.wav\n"
     ]
    },
    {
     "ename": "AttributeError",
     "evalue": "type object 'SubRipTime' has no attribute 'from_seconds'",
     "output_type": "error",
     "traceback": [
      "\u001b[1;31m---------------------------------------------------------------------------\u001b[0m",
      "\u001b[1;31mAttributeError\u001b[0m                            Traceback (most recent call last)",
      "\u001b[1;32m~\\AppData\\Local\\Temp/ipykernel_2104/1912610352.py\u001b[0m in \u001b[0;36m<module>\u001b[1;34m\u001b[0m\n\u001b[0;32m     94\u001b[0m     \u001b[0mwords\u001b[0m \u001b[1;33m=\u001b[0m \u001b[0mspeech_to_text\u001b[0m\u001b[1;33m(\u001b[0m\u001b[0mmono_audio_path\u001b[0m\u001b[1;33m)\u001b[0m\u001b[1;33m\u001b[0m\u001b[1;33m\u001b[0m\u001b[0m\n\u001b[0;32m     95\u001b[0m     \u001b[0mtranscript\u001b[0m \u001b[1;33m=\u001b[0m \u001b[0mconvert_words_to_text\u001b[0m\u001b[1;33m(\u001b[0m\u001b[0mwords\u001b[0m\u001b[1;33m)\u001b[0m\u001b[1;33m\u001b[0m\u001b[1;33m\u001b[0m\u001b[0m\n\u001b[1;32m---> 96\u001b[1;33m     \u001b[0mcreate_srt\u001b[0m\u001b[1;33m(\u001b[0m\u001b[0mwords\u001b[0m\u001b[1;33m,\u001b[0m \u001b[0moutput_srt_path\u001b[0m\u001b[1;33m)\u001b[0m\u001b[1;33m\u001b[0m\u001b[1;33m\u001b[0m\u001b[0m\n\u001b[0m\u001b[0;32m     97\u001b[0m     \u001b[0madd_subtitles_to_video\u001b[0m\u001b[1;33m(\u001b[0m\u001b[0mvideo_path\u001b[0m\u001b[1;33m,\u001b[0m \u001b[0moutput_srt_path\u001b[0m\u001b[1;33m,\u001b[0m \u001b[0moutput_video_path\u001b[0m\u001b[1;33m)\u001b[0m\u001b[1;33m\u001b[0m\u001b[1;33m\u001b[0m\u001b[0m\n",
      "\u001b[1;32m~\\AppData\\Local\\Temp/ipykernel_2104/1912610352.py\u001b[0m in \u001b[0;36mcreate_srt\u001b[1;34m(words, output_srt_path)\u001b[0m\n\u001b[0;32m     70\u001b[0m     \u001b[1;32mfor\u001b[0m \u001b[0mi\u001b[0m\u001b[1;33m,\u001b[0m \u001b[0mword_info\u001b[0m \u001b[1;32min\u001b[0m \u001b[0menumerate\u001b[0m\u001b[1;33m(\u001b[0m\u001b[0mwords\u001b[0m\u001b[1;33m)\u001b[0m\u001b[1;33m:\u001b[0m\u001b[1;33m\u001b[0m\u001b[1;33m\u001b[0m\u001b[0m\n\u001b[0;32m     71\u001b[0m         \u001b[0mword\u001b[0m\u001b[1;33m,\u001b[0m \u001b[0mstart_time\u001b[0m\u001b[1;33m,\u001b[0m \u001b[0mend_time\u001b[0m \u001b[1;33m=\u001b[0m \u001b[0mword_info\u001b[0m\u001b[1;33m\u001b[0m\u001b[1;33m\u001b[0m\u001b[0m\n\u001b[1;32m---> 72\u001b[1;33m         \u001b[0mstart_time_srt\u001b[0m \u001b[1;33m=\u001b[0m \u001b[0mpysrt\u001b[0m\u001b[1;33m.\u001b[0m\u001b[0mSubRipTime\u001b[0m\u001b[1;33m.\u001b[0m\u001b[0mfrom_seconds\u001b[0m\u001b[1;33m(\u001b[0m\u001b[0mstart_time\u001b[0m\u001b[1;33m)\u001b[0m\u001b[1;33m\u001b[0m\u001b[1;33m\u001b[0m\u001b[0m\n\u001b[0m\u001b[0;32m     73\u001b[0m         \u001b[0mend_time_srt\u001b[0m \u001b[1;33m=\u001b[0m \u001b[0mpysrt\u001b[0m\u001b[1;33m.\u001b[0m\u001b[0mSubRipTime\u001b[0m\u001b[1;33m.\u001b[0m\u001b[0mfrom_seconds\u001b[0m\u001b[1;33m(\u001b[0m\u001b[0mend_time\u001b[0m\u001b[1;33m)\u001b[0m\u001b[1;33m\u001b[0m\u001b[1;33m\u001b[0m\u001b[0m\n\u001b[0;32m     74\u001b[0m         \u001b[0msub\u001b[0m \u001b[1;33m=\u001b[0m \u001b[0mpysrt\u001b[0m\u001b[1;33m.\u001b[0m\u001b[0mSubRipItem\u001b[0m\u001b[1;33m(\u001b[0m\u001b[0mi\u001b[0m\u001b[1;33m,\u001b[0m \u001b[0mstart\u001b[0m\u001b[1;33m=\u001b[0m\u001b[0mstart_time_srt\u001b[0m\u001b[1;33m,\u001b[0m \u001b[0mend\u001b[0m\u001b[1;33m=\u001b[0m\u001b[0mend_time_srt\u001b[0m\u001b[1;33m,\u001b[0m \u001b[0mtext\u001b[0m\u001b[1;33m=\u001b[0m\u001b[0mword\u001b[0m\u001b[1;33m)\u001b[0m\u001b[1;33m\u001b[0m\u001b[1;33m\u001b[0m\u001b[0m\n",
      "\u001b[1;31mAttributeError\u001b[0m: type object 'SubRipTime' has no attribute 'from_seconds'"
     ]
    }
   ],
   "source": []
  },
  {
   "cell_type": "code",
   "execution_count": 51,
   "id": "255b461d",
   "metadata": {},
   "outputs": [
    {
     "ename": "ValueError",
     "evalue": "Attribute 'duration' not set",
     "output_type": "error",
     "traceback": [
      "\u001b[1;31m---------------------------------------------------------------------------\u001b[0m",
      "\u001b[1;31mValueError\u001b[0m                                Traceback (most recent call last)",
      "\u001b[1;32m~\\AppData\\Local\\Temp/ipykernel_2104/3142896543.py\u001b[0m in \u001b[0;36m<module>\u001b[1;34m\u001b[0m\n\u001b[0;32m     19\u001b[0m \u001b[1;33m\u001b[0m\u001b[0m\n\u001b[0;32m     20\u001b[0m \u001b[1;31m# Display the clip\u001b[0m\u001b[1;33m\u001b[0m\u001b[1;33m\u001b[0m\u001b[0m\n\u001b[1;32m---> 21\u001b[1;33m \u001b[0mclip\u001b[0m\u001b[1;33m.\u001b[0m\u001b[0mpreview\u001b[0m\u001b[1;33m(\u001b[0m\u001b[1;33m)\u001b[0m\u001b[1;33m\u001b[0m\u001b[1;33m\u001b[0m\u001b[0m\n\u001b[0m",
      "\u001b[1;32m<decorator-gen-216>\u001b[0m in \u001b[0;36mpreview\u001b[1;34m(clip, fps, audio, audio_fps, audio_buffersize, audio_nbytes, fullscreen)\u001b[0m\n",
      "\u001b[1;32m~\\anaconda3\\lib\\site-packages\\moviepy\\decorators.py\u001b[0m in \u001b[0;36mrequires_duration\u001b[1;34m(f, clip, *a, **k)\u001b[0m\n\u001b[0;32m     50\u001b[0m \u001b[1;33m\u001b[0m\u001b[0m\n\u001b[0;32m     51\u001b[0m     \u001b[1;32mif\u001b[0m \u001b[0mclip\u001b[0m\u001b[1;33m.\u001b[0m\u001b[0mduration\u001b[0m \u001b[1;32mis\u001b[0m \u001b[1;32mNone\u001b[0m\u001b[1;33m:\u001b[0m\u001b[1;33m\u001b[0m\u001b[1;33m\u001b[0m\u001b[0m\n\u001b[1;32m---> 52\u001b[1;33m         \u001b[1;32mraise\u001b[0m \u001b[0mValueError\u001b[0m\u001b[1;33m(\u001b[0m\u001b[1;34m\"Attribute 'duration' not set\"\u001b[0m\u001b[1;33m)\u001b[0m\u001b[1;33m\u001b[0m\u001b[1;33m\u001b[0m\u001b[0m\n\u001b[0m\u001b[0;32m     53\u001b[0m     \u001b[1;32melse\u001b[0m\u001b[1;33m:\u001b[0m\u001b[1;33m\u001b[0m\u001b[1;33m\u001b[0m\u001b[0m\n\u001b[0;32m     54\u001b[0m         \u001b[1;32mreturn\u001b[0m \u001b[0mf\u001b[0m\u001b[1;33m(\u001b[0m\u001b[0mclip\u001b[0m\u001b[1;33m,\u001b[0m \u001b[1;33m*\u001b[0m\u001b[0ma\u001b[0m\u001b[1;33m,\u001b[0m \u001b[1;33m**\u001b[0m\u001b[0mk\u001b[0m\u001b[1;33m)\u001b[0m\u001b[1;33m\u001b[0m\u001b[1;33m\u001b[0m\u001b[0m\n",
      "\u001b[1;31mValueError\u001b[0m: Attribute 'duration' not set"
     ]
    }
   ],
   "source": []
  },
  {
   "cell_type": "code",
   "execution_count": null,
   "id": "0fe492ec",
   "metadata": {},
   "outputs": [],
   "source": []
  }
 ],
 "metadata": {
  "kernelspec": {
   "display_name": "Python 3 (ipykernel)",
   "language": "python",
   "name": "python3"
  },
  "language_info": {
   "codemirror_mode": {
    "name": "ipython",
    "version": 3
   },
   "file_extension": ".py",
   "mimetype": "text/x-python",
   "name": "python",
   "nbconvert_exporter": "python",
   "pygments_lexer": "ipython3",
   "version": "3.9.7"
  }
 },
 "nbformat": 4,
 "nbformat_minor": 5
}
